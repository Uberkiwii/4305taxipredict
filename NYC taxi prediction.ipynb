{
 "cells": [
  {
   "cell_type": "code",
   "execution_count": 1,
   "id": "6daaa4e5",
   "metadata": {},
   "outputs": [
    {
     "data": {
      "text/html": [
       "        <script type=\"text/javascript\">\n",
       "        window.PlotlyConfig = {MathJaxConfig: 'local'};\n",
       "        if (window.MathJax) {MathJax.Hub.Config({SVG: {font: \"STIX-Web\"}});}\n",
       "        if (typeof require !== 'undefined') {\n",
       "        require.undef(\"plotly\");\n",
       "        requirejs.config({\n",
       "            paths: {\n",
       "                'plotly': ['https://cdn.plot.ly/plotly-2.11.1.min']\n",
       "            }\n",
       "        });\n",
       "        require(['plotly'], function(Plotly) {\n",
       "            window._Plotly = Plotly;\n",
       "        });\n",
       "        }\n",
       "        </script>\n",
       "        "
      ]
     },
     "metadata": {},
     "output_type": "display_data"
    }
   ],
   "source": [
    "#Import Libraries\n",
    "import numpy as np # linear algebra\n",
    "import pandas as pd # data processing, CSV file I/O (e.g. pd.read_csv)\n",
    "import os #operating system dependent modules of Python\n",
    "import matplotlib.pyplot as plt #visualization\n",
    "import seaborn as sns #visualization\n",
    "%matplotlib inline\n",
    "import itertools\n",
    "import plotly.offline as py #visualization\n",
    "py.init_notebook_mode(connected=True) #visualization\n",
    "import plotly.graph_objs as go #visualization\n",
    "import warnings\n",
    "warnings.filterwarnings(\"ignore\")"
   ]
  },
  {
   "cell_type": "code",
   "execution_count": 2,
   "id": "825eabde",
   "metadata": {
    "scrolled": false
   },
   "outputs": [
    {
     "data": {
      "text/html": [
       "<div>\n",
       "<style scoped>\n",
       "    .dataframe tbody tr th:only-of-type {\n",
       "        vertical-align: middle;\n",
       "    }\n",
       "\n",
       "    .dataframe tbody tr th {\n",
       "        vertical-align: top;\n",
       "    }\n",
       "\n",
       "    .dataframe thead th {\n",
       "        text-align: right;\n",
       "    }\n",
       "</style>\n",
       "<table border=\"1\" class=\"dataframe\">\n",
       "  <thead>\n",
       "    <tr style=\"text-align: right;\">\n",
       "      <th></th>\n",
       "      <th>key</th>\n",
       "      <th>fare_amount</th>\n",
       "      <th>pickup_datetime</th>\n",
       "      <th>pickup_longitude</th>\n",
       "      <th>pickup_latitude</th>\n",
       "      <th>dropoff_longitude</th>\n",
       "      <th>dropoff_latitude</th>\n",
       "      <th>passenger_count</th>\n",
       "    </tr>\n",
       "  </thead>\n",
       "  <tbody>\n",
       "    <tr>\n",
       "      <th>0</th>\n",
       "      <td>2009-06-15 17:26:21.0000001</td>\n",
       "      <td>4.5</td>\n",
       "      <td>2009-06-15 17:26:21 UTC</td>\n",
       "      <td>-73.844311</td>\n",
       "      <td>40.721319</td>\n",
       "      <td>-73.841610</td>\n",
       "      <td>40.712278</td>\n",
       "      <td>1</td>\n",
       "    </tr>\n",
       "    <tr>\n",
       "      <th>1</th>\n",
       "      <td>2010-01-05 16:52:16.0000002</td>\n",
       "      <td>16.9</td>\n",
       "      <td>2010-01-05 16:52:16 UTC</td>\n",
       "      <td>-74.016048</td>\n",
       "      <td>40.711303</td>\n",
       "      <td>-73.979268</td>\n",
       "      <td>40.782004</td>\n",
       "      <td>1</td>\n",
       "    </tr>\n",
       "    <tr>\n",
       "      <th>2</th>\n",
       "      <td>2011-08-18 00:35:00.00000049</td>\n",
       "      <td>5.7</td>\n",
       "      <td>2011-08-18 00:35:00 UTC</td>\n",
       "      <td>-73.982738</td>\n",
       "      <td>40.761270</td>\n",
       "      <td>-73.991242</td>\n",
       "      <td>40.750562</td>\n",
       "      <td>2</td>\n",
       "    </tr>\n",
       "    <tr>\n",
       "      <th>3</th>\n",
       "      <td>2012-04-21 04:30:42.0000001</td>\n",
       "      <td>7.7</td>\n",
       "      <td>2012-04-21 04:30:42 UTC</td>\n",
       "      <td>-73.987130</td>\n",
       "      <td>40.733143</td>\n",
       "      <td>-73.991567</td>\n",
       "      <td>40.758092</td>\n",
       "      <td>1</td>\n",
       "    </tr>\n",
       "    <tr>\n",
       "      <th>4</th>\n",
       "      <td>2010-03-09 07:51:00.000000135</td>\n",
       "      <td>5.3</td>\n",
       "      <td>2010-03-09 07:51:00 UTC</td>\n",
       "      <td>-73.968095</td>\n",
       "      <td>40.768008</td>\n",
       "      <td>-73.956655</td>\n",
       "      <td>40.783762</td>\n",
       "      <td>1</td>\n",
       "    </tr>\n",
       "  </tbody>\n",
       "</table>\n",
       "</div>"
      ],
      "text/plain": [
       "                             key  fare_amount          pickup_datetime  \\\n",
       "0    2009-06-15 17:26:21.0000001          4.5  2009-06-15 17:26:21 UTC   \n",
       "1    2010-01-05 16:52:16.0000002         16.9  2010-01-05 16:52:16 UTC   \n",
       "2   2011-08-18 00:35:00.00000049          5.7  2011-08-18 00:35:00 UTC   \n",
       "3    2012-04-21 04:30:42.0000001          7.7  2012-04-21 04:30:42 UTC   \n",
       "4  2010-03-09 07:51:00.000000135          5.3  2010-03-09 07:51:00 UTC   \n",
       "\n",
       "   pickup_longitude  pickup_latitude  dropoff_longitude  dropoff_latitude  \\\n",
       "0        -73.844311        40.721319         -73.841610         40.712278   \n",
       "1        -74.016048        40.711303         -73.979268         40.782004   \n",
       "2        -73.982738        40.761270         -73.991242         40.750562   \n",
       "3        -73.987130        40.733143         -73.991567         40.758092   \n",
       "4        -73.968095        40.768008         -73.956655         40.783762   \n",
       "\n",
       "   passenger_count  \n",
       "0                1  \n",
       "1                1  \n",
       "2                2  \n",
       "3                1  \n",
       "4                1  "
      ]
     },
     "execution_count": 2,
     "metadata": {},
     "output_type": "execute_result"
    }
   ],
   "source": [
    "nyc_data = pd.read_csv(\"train.csv\", nrows = 500000)\n",
    "nyc_data.head()"
   ]
  },
  {
   "cell_type": "code",
   "execution_count": 3,
   "id": "b8c30b95",
   "metadata": {},
   "outputs": [
    {
     "data": {
      "text/html": [
       "<div>\n",
       "<style scoped>\n",
       "    .dataframe tbody tr th:only-of-type {\n",
       "        vertical-align: middle;\n",
       "    }\n",
       "\n",
       "    .dataframe tbody tr th {\n",
       "        vertical-align: top;\n",
       "    }\n",
       "\n",
       "    .dataframe thead th {\n",
       "        text-align: right;\n",
       "    }\n",
       "</style>\n",
       "<table border=\"1\" class=\"dataframe\">\n",
       "  <thead>\n",
       "    <tr style=\"text-align: right;\">\n",
       "      <th></th>\n",
       "      <th>key</th>\n",
       "      <th>pickup_datetime</th>\n",
       "      <th>pickup_longitude</th>\n",
       "      <th>pickup_latitude</th>\n",
       "      <th>dropoff_longitude</th>\n",
       "      <th>dropoff_latitude</th>\n",
       "      <th>passenger_count</th>\n",
       "    </tr>\n",
       "  </thead>\n",
       "  <tbody>\n",
       "    <tr>\n",
       "      <th>0</th>\n",
       "      <td>2015-01-27 13:08:24.0000002</td>\n",
       "      <td>2015-01-27 13:08:24 UTC</td>\n",
       "      <td>-73.973320</td>\n",
       "      <td>40.763805</td>\n",
       "      <td>-73.981430</td>\n",
       "      <td>40.743835</td>\n",
       "      <td>1</td>\n",
       "    </tr>\n",
       "    <tr>\n",
       "      <th>1</th>\n",
       "      <td>2015-01-27 13:08:24.0000003</td>\n",
       "      <td>2015-01-27 13:08:24 UTC</td>\n",
       "      <td>-73.986862</td>\n",
       "      <td>40.719383</td>\n",
       "      <td>-73.998886</td>\n",
       "      <td>40.739201</td>\n",
       "      <td>1</td>\n",
       "    </tr>\n",
       "    <tr>\n",
       "      <th>2</th>\n",
       "      <td>2011-10-08 11:53:44.0000002</td>\n",
       "      <td>2011-10-08 11:53:44 UTC</td>\n",
       "      <td>-73.982524</td>\n",
       "      <td>40.751260</td>\n",
       "      <td>-73.979654</td>\n",
       "      <td>40.746139</td>\n",
       "      <td>1</td>\n",
       "    </tr>\n",
       "    <tr>\n",
       "      <th>3</th>\n",
       "      <td>2012-12-01 21:12:12.0000002</td>\n",
       "      <td>2012-12-01 21:12:12 UTC</td>\n",
       "      <td>-73.981160</td>\n",
       "      <td>40.767807</td>\n",
       "      <td>-73.990448</td>\n",
       "      <td>40.751635</td>\n",
       "      <td>1</td>\n",
       "    </tr>\n",
       "    <tr>\n",
       "      <th>4</th>\n",
       "      <td>2012-12-01 21:12:12.0000003</td>\n",
       "      <td>2012-12-01 21:12:12 UTC</td>\n",
       "      <td>-73.966046</td>\n",
       "      <td>40.789775</td>\n",
       "      <td>-73.988565</td>\n",
       "      <td>40.744427</td>\n",
       "      <td>1</td>\n",
       "    </tr>\n",
       "  </tbody>\n",
       "</table>\n",
       "</div>"
      ],
      "text/plain": [
       "                           key          pickup_datetime  pickup_longitude  \\\n",
       "0  2015-01-27 13:08:24.0000002  2015-01-27 13:08:24 UTC        -73.973320   \n",
       "1  2015-01-27 13:08:24.0000003  2015-01-27 13:08:24 UTC        -73.986862   \n",
       "2  2011-10-08 11:53:44.0000002  2011-10-08 11:53:44 UTC        -73.982524   \n",
       "3  2012-12-01 21:12:12.0000002  2012-12-01 21:12:12 UTC        -73.981160   \n",
       "4  2012-12-01 21:12:12.0000003  2012-12-01 21:12:12 UTC        -73.966046   \n",
       "\n",
       "   pickup_latitude  dropoff_longitude  dropoff_latitude  passenger_count  \n",
       "0        40.763805         -73.981430         40.743835                1  \n",
       "1        40.719383         -73.998886         40.739201                1  \n",
       "2        40.751260         -73.979654         40.746139                1  \n",
       "3        40.767807         -73.990448         40.751635                1  \n",
       "4        40.789775         -73.988565         40.744427                1  "
      ]
     },
     "execution_count": 3,
     "metadata": {},
     "output_type": "execute_result"
    }
   ],
   "source": [
    "test = pd.read_csv(\"test.csv\")\n",
    "test.dtypes\n",
    "test.head()"
   ]
  },
  {
   "cell_type": "code",
   "execution_count": 4,
   "id": "e8a4e5ed",
   "metadata": {
    "scrolled": false
   },
   "outputs": [
    {
     "data": {
      "text/html": [
       "<div>\n",
       "<style scoped>\n",
       "    .dataframe tbody tr th:only-of-type {\n",
       "        vertical-align: middle;\n",
       "    }\n",
       "\n",
       "    .dataframe tbody tr th {\n",
       "        vertical-align: top;\n",
       "    }\n",
       "\n",
       "    .dataframe thead th {\n",
       "        text-align: right;\n",
       "    }\n",
       "</style>\n",
       "<table border=\"1\" class=\"dataframe\">\n",
       "  <thead>\n",
       "    <tr style=\"text-align: right;\">\n",
       "      <th></th>\n",
       "      <th>key</th>\n",
       "      <th>fare_amount</th>\n",
       "      <th>pickup_datetime</th>\n",
       "      <th>pickup_longitude</th>\n",
       "      <th>pickup_latitude</th>\n",
       "      <th>dropoff_longitude</th>\n",
       "      <th>dropoff_latitude</th>\n",
       "      <th>passenger_count</th>\n",
       "      <th>year</th>\n",
       "      <th>month</th>\n",
       "      <th>month_name</th>\n",
       "      <th>month_year</th>\n",
       "      <th>day</th>\n",
       "      <th>hour</th>\n",
       "    </tr>\n",
       "  </thead>\n",
       "  <tbody>\n",
       "    <tr>\n",
       "      <th>286276</th>\n",
       "      <td>2015-06-30 23:38:21.0000003</td>\n",
       "      <td>26.5</td>\n",
       "      <td>2015-06-30 23:38:21</td>\n",
       "      <td>-74.008385</td>\n",
       "      <td>40.711571</td>\n",
       "      <td>-73.884071</td>\n",
       "      <td>40.737385</td>\n",
       "      <td>5</td>\n",
       "      <td>2015</td>\n",
       "      <td>6</td>\n",
       "      <td>JUN</td>\n",
       "      <td>2015 - JUN</td>\n",
       "      <td>30</td>\n",
       "      <td>23</td>\n",
       "    </tr>\n",
       "    <tr>\n",
       "      <th>240182</th>\n",
       "      <td>2015-06-30 23:34:05.0000002</td>\n",
       "      <td>7.5</td>\n",
       "      <td>2015-06-30 23:34:05</td>\n",
       "      <td>-73.996719</td>\n",
       "      <td>40.742764</td>\n",
       "      <td>-73.991905</td>\n",
       "      <td>40.725853</td>\n",
       "      <td>1</td>\n",
       "      <td>2015</td>\n",
       "      <td>6</td>\n",
       "      <td>JUN</td>\n",
       "      <td>2015 - JUN</td>\n",
       "      <td>30</td>\n",
       "      <td>23</td>\n",
       "    </tr>\n",
       "    <tr>\n",
       "      <th>182743</th>\n",
       "      <td>2015-06-30 23:28:55.0000007</td>\n",
       "      <td>8.0</td>\n",
       "      <td>2015-06-30 23:28:55</td>\n",
       "      <td>-73.984734</td>\n",
       "      <td>40.748158</td>\n",
       "      <td>-73.983185</td>\n",
       "      <td>40.764431</td>\n",
       "      <td>1</td>\n",
       "      <td>2015</td>\n",
       "      <td>6</td>\n",
       "      <td>JUN</td>\n",
       "      <td>2015 - JUN</td>\n",
       "      <td>30</td>\n",
       "      <td>23</td>\n",
       "    </tr>\n",
       "    <tr>\n",
       "      <th>362807</th>\n",
       "      <td>2015-06-30 23:26:21.0000001</td>\n",
       "      <td>16.0</td>\n",
       "      <td>2015-06-30 23:26:21</td>\n",
       "      <td>-73.979385</td>\n",
       "      <td>40.682659</td>\n",
       "      <td>-73.925461</td>\n",
       "      <td>40.669498</td>\n",
       "      <td>2</td>\n",
       "      <td>2015</td>\n",
       "      <td>6</td>\n",
       "      <td>JUN</td>\n",
       "      <td>2015 - JUN</td>\n",
       "      <td>30</td>\n",
       "      <td>23</td>\n",
       "    </tr>\n",
       "    <tr>\n",
       "      <th>350061</th>\n",
       "      <td>2015-06-30 23:22:46.0000006</td>\n",
       "      <td>10.0</td>\n",
       "      <td>2015-06-30 23:22:46</td>\n",
       "      <td>-73.984718</td>\n",
       "      <td>40.754299</td>\n",
       "      <td>-73.966904</td>\n",
       "      <td>40.772480</td>\n",
       "      <td>1</td>\n",
       "      <td>2015</td>\n",
       "      <td>6</td>\n",
       "      <td>JUN</td>\n",
       "      <td>2015 - JUN</td>\n",
       "      <td>30</td>\n",
       "      <td>23</td>\n",
       "    </tr>\n",
       "  </tbody>\n",
       "</table>\n",
       "</div>"
      ],
      "text/plain": [
       "                                key  fare_amount     pickup_datetime  \\\n",
       "286276  2015-06-30 23:38:21.0000003         26.5 2015-06-30 23:38:21   \n",
       "240182  2015-06-30 23:34:05.0000002          7.5 2015-06-30 23:34:05   \n",
       "182743  2015-06-30 23:28:55.0000007          8.0 2015-06-30 23:28:55   \n",
       "362807  2015-06-30 23:26:21.0000001         16.0 2015-06-30 23:26:21   \n",
       "350061  2015-06-30 23:22:46.0000006         10.0 2015-06-30 23:22:46   \n",
       "\n",
       "        pickup_longitude  pickup_latitude  dropoff_longitude  \\\n",
       "286276        -74.008385        40.711571         -73.884071   \n",
       "240182        -73.996719        40.742764         -73.991905   \n",
       "182743        -73.984734        40.748158         -73.983185   \n",
       "362807        -73.979385        40.682659         -73.925461   \n",
       "350061        -73.984718        40.754299         -73.966904   \n",
       "\n",
       "        dropoff_latitude  passenger_count  year  month month_name  month_year  \\\n",
       "286276         40.737385                5  2015      6        JUN  2015 - JUN   \n",
       "240182         40.725853                1  2015      6        JUN  2015 - JUN   \n",
       "182743         40.764431                1  2015      6        JUN  2015 - JUN   \n",
       "362807         40.669498                2  2015      6        JUN  2015 - JUN   \n",
       "350061         40.772480                1  2015      6        JUN  2015 - JUN   \n",
       "\n",
       "        day  hour  \n",
       "286276   30    23  \n",
       "240182   30    23  \n",
       "182743   30    23  \n",
       "362807   30    23  \n",
       "350061   30    23  "
      ]
     },
     "execution_count": 4,
     "metadata": {},
     "output_type": "execute_result"
    }
   ],
   "source": [
    "#replace 0's in coordinates with null values\n",
    "coord = ['pickup_longitude','pickup_latitude', \n",
    "         'dropoff_longitude', 'dropoff_latitude']\n",
    "\n",
    "for i in coord :\n",
    "    nyc_data[i] = nyc_data[i].replace(0,np.nan)\n",
    "    nyc_data    = nyc_data[nyc_data[i].notnull()]\n",
    "\n",
    "#conver to date format\n",
    "nyc_data[\"pickup_datetime\"] = nyc_data[\"pickup_datetime\"].astype(str).str.replace(\" UTC\",\"\")\n",
    "nyc_data[\"pickup_datetime\"] = pd.to_datetime(nyc_data[\"pickup_datetime\"],\n",
    "                                             format=\"%Y-%m-%d %H:%M:%S\")\n",
    "\n",
    "test[\"pickup_datetime\"] = test[\"pickup_datetime\"].astype(str).str.replace(\" UTC\",\"\")\n",
    "test[\"pickup_datetime\"] = pd.to_datetime(test[\"pickup_datetime\"],\n",
    "                                             format=\"%Y-%m-%d %H:%M:%S\")\n",
    "#extract year\n",
    "nyc_data[\"year\"]  = pd.DatetimeIndex(nyc_data[\"pickup_datetime\"]).year\n",
    "#extract month\n",
    "nyc_data[\"month\"] = pd.DatetimeIndex(nyc_data[\"pickup_datetime\"]).month\n",
    "nyc_data[\"month_name\"] = nyc_data[\"month\"].map({1:\"JAN\",2:\"FEB\",3:\"MAR\",\n",
    "                                                4:\"APR\",5:\"MAY\",6:\"JUN\",\n",
    "                                                7:\"JUL\",8:\"AUG\",9:\"SEP\",\n",
    "                                                10:\"OCT\",11:\"NOV\",12:\"DEC\"\n",
    "                                               })\n",
    "#merge year month\n",
    "nyc_data[\"month_year\"] = nyc_data[\"year\"].astype(str) + \" - \" + nyc_data[\"month_name\"]\n",
    "#extract day \n",
    "nyc_data[\"day\"]        = nyc_data[\"pickup_datetime\"].dt.day\n",
    "#extract hour\n",
    "nyc_data[\"hour\"]        = nyc_data[\"pickup_datetime\"].dt.hour \n",
    "nyc_data = nyc_data.sort_values(by = \"pickup_datetime\",ascending = False)\n",
    "\n",
    "#Outlier treatment\n",
    "#drop observations with passengers greater than 6 and equals 0\n",
    "nyc_data = nyc_data[(nyc_data[\"passenger_count\"] > 0 ) &\n",
    "                    (nyc_data[\"passenger_count\"] < 7) ]\n",
    "\n",
    "#drop observations with fareamount  less than 0 and  greater than 99.99% percentile value.\n",
    "nyc_data = nyc_data[ (nyc_data[\"fare_amount\"] > 0 ) &\n",
    "                     (nyc_data[\"fare_amount\"]  <  \n",
    "                      nyc_data[\"fare_amount\"].quantile(.9999))]\n",
    "\n",
    "#drop outlier observations in data\n",
    "coords = ['pickup_longitude','pickup_latitude', \n",
    "          'dropoff_longitude', 'dropoff_latitude']\n",
    "for i in coord  : \n",
    "    nyc_data = nyc_data[(nyc_data[i]   > nyc_data[i].quantile(.001)) & \n",
    "                        (nyc_data[i] < nyc_data[i].quantile(.999))]\n",
    "    \n",
    "nyc_data.head()"
   ]
  },
  {
   "cell_type": "markdown",
   "id": "28822be6",
   "metadata": {},
   "source": [
    "#Finding distance based on longitude and latitude\n",
    "\n",
    "The Haversine formula determines the great-circle distance between two points on a sphere given their longitudes and latitudes.\n",
    "\n",
    "dlon = dropoff_lon - pickup_lon\n",
    "\n",
    "dlat = dropoff_lat - pickup_lat\n",
    "\n",
    "a = (sin(dlat/2))^2 + cos(dropoff_lat) * cos(pickup_lat) * (sin(dlon/2))^2\n",
    "\n",
    "c = 2 * atan2(sqrt(a), sqrt(1-a))\n",
    "\n",
    "d = R * c (where R is the radius of the Earth)"
   ]
  },
  {
   "cell_type": "code",
   "execution_count": 5,
   "id": "d5cf2741",
   "metadata": {},
   "outputs": [
    {
     "data": {
      "text/html": [
       "<div>\n",
       "<style scoped>\n",
       "    .dataframe tbody tr th:only-of-type {\n",
       "        vertical-align: middle;\n",
       "    }\n",
       "\n",
       "    .dataframe tbody tr th {\n",
       "        vertical-align: top;\n",
       "    }\n",
       "\n",
       "    .dataframe thead th {\n",
       "        text-align: right;\n",
       "    }\n",
       "</style>\n",
       "<table border=\"1\" class=\"dataframe\">\n",
       "  <thead>\n",
       "    <tr style=\"text-align: right;\">\n",
       "      <th></th>\n",
       "      <th>pickup_longitude</th>\n",
       "      <th>pickup_latitude</th>\n",
       "      <th>dropoff_longitude</th>\n",
       "      <th>dropoff_latitude</th>\n",
       "      <th>trip_distance_km</th>\n",
       "    </tr>\n",
       "  </thead>\n",
       "  <tbody>\n",
       "    <tr>\n",
       "      <th>286276</th>\n",
       "      <td>-74.008385</td>\n",
       "      <td>40.711571</td>\n",
       "      <td>-73.884071</td>\n",
       "      <td>40.737385</td>\n",
       "      <td>10.865387</td>\n",
       "    </tr>\n",
       "    <tr>\n",
       "      <th>240182</th>\n",
       "      <td>-73.996719</td>\n",
       "      <td>40.742764</td>\n",
       "      <td>-73.991905</td>\n",
       "      <td>40.725853</td>\n",
       "      <td>1.924224</td>\n",
       "    </tr>\n",
       "    <tr>\n",
       "      <th>182743</th>\n",
       "      <td>-73.984734</td>\n",
       "      <td>40.748158</td>\n",
       "      <td>-73.983185</td>\n",
       "      <td>40.764431</td>\n",
       "      <td>1.814796</td>\n",
       "    </tr>\n",
       "    <tr>\n",
       "      <th>362807</th>\n",
       "      <td>-73.979385</td>\n",
       "      <td>40.682659</td>\n",
       "      <td>-73.925461</td>\n",
       "      <td>40.669498</td>\n",
       "      <td>4.778674</td>\n",
       "    </tr>\n",
       "    <tr>\n",
       "      <th>350061</th>\n",
       "      <td>-73.984718</td>\n",
       "      <td>40.754299</td>\n",
       "      <td>-73.966904</td>\n",
       "      <td>40.772480</td>\n",
       "      <td>2.518330</td>\n",
       "    </tr>\n",
       "  </tbody>\n",
       "</table>\n",
       "</div>"
      ],
      "text/plain": [
       "        pickup_longitude  pickup_latitude  dropoff_longitude  \\\n",
       "286276        -74.008385        40.711571         -73.884071   \n",
       "240182        -73.996719        40.742764         -73.991905   \n",
       "182743        -73.984734        40.748158         -73.983185   \n",
       "362807        -73.979385        40.682659         -73.925461   \n",
       "350061        -73.984718        40.754299         -73.966904   \n",
       "\n",
       "        dropoff_latitude  trip_distance_km  \n",
       "286276         40.737385         10.865387  \n",
       "240182         40.725853          1.924224  \n",
       "182743         40.764431          1.814796  \n",
       "362807         40.669498          4.778674  \n",
       "350061         40.772480          2.518330  "
      ]
     },
     "execution_count": 5,
     "metadata": {},
     "output_type": "execute_result"
    }
   ],
   "source": [
    "#radius of earth in kilometers\n",
    "R = 6373.0\n",
    "\n",
    "pickup_lat  = np.radians(nyc_data[\"pickup_latitude\"])\n",
    "pickup_lon  = np.radians(nyc_data[\"pickup_longitude\"])\n",
    "dropoff_lat = np.radians(nyc_data[\"dropoff_latitude\"])\n",
    "dropoff_lon = np.radians(nyc_data[\"dropoff_longitude\"])\n",
    "\n",
    "dist_lon = dropoff_lon - pickup_lon\n",
    "dist_lat = dropoff_lat - pickup_lat\n",
    "\n",
    "#Formula\n",
    "a = (np.sin(dist_lat/2))**2 + np.cos(pickup_lat) * np.cos(dropoff_lat) * (np.sin(dist_lon/2))**2 \n",
    "c = 2 * np.arctan2( np.sqrt(a), np.sqrt(1-a) ) \n",
    "d = R * c #(where R is the radius of the Earth)\n",
    "\n",
    "nyc_data[\"trip_distance_km\"] = d\n",
    "\n",
    "#create new variable log of distance\n",
    "nyc_data[\"log_trip_ditance\"] = np.log(nyc_data[\"trip_distance_km\"])\n",
    "\n",
    "nyc_data[coord + [\"trip_distance_km\"]].head()"
   ]
  },
  {
   "cell_type": "markdown",
   "id": "e83aa9c0",
   "metadata": {},
   "source": [
    "Distribution of Haversine Distance in Kilometers"
   ]
  },
  {
   "cell_type": "code",
   "execution_count": 6,
   "id": "8d2a93b6",
   "metadata": {},
   "outputs": [
    {
     "data": {
      "image/png": "[encoded data removed]",
      "text/plain": [
       "<Figure size 864x504 with 1 Axes>"
      ]
     },
     "metadata": {
      "needs_background": "light"
     },
     "output_type": "display_data"
    }
   ],
   "source": [
    "plt.figure(figsize = (12,7))\n",
    "sns.distplot(nyc_data[\"trip_distance_km\"],color = \"r\")\n",
    "plt.axvline(nyc_data[\"trip_distance_km\"].mean(),color = \"k\",\n",
    "            linestyle = \"dashed\",label = \"Avg Trip Distance (km)\")\n",
    "plt.title(\"Distribution in Trip Distance in Kilometers\")\n",
    "plt.legend(loc = \"best\",prop = {\"size\" : 12})\n",
    "plt.show()"
   ]
  },
  {
   "cell_type": "markdown",
   "id": "c65ab930",
   "metadata": {},
   "source": [
    "Total Trips, Passengers and Fare Amount per Year"
   ]
  },
  {
   "cell_type": "code",
   "execution_count": 7,
   "id": "a700929a",
   "metadata": {
    "scrolled": true
   },
   "outputs": [
    {
     "data": {
      "application/vnd.plotly.v1+json": {
       "config": {
        "linkText": "Export to plot.ly",
        "plotlyServerURL": "https://plot.ly",
        "showLink": false
       },
       "data": [
        {
         "marker": {
          "line": {
           "width": 1
          }
         },
         "name": "trip_count",
         "type": "bar",
         "x": [
          2009,
          2010,
          2011,
          2012,
          2013,
          2014,
          2015
         ],
         "y": [
          75308,
          73541,
          75824,
          77154,
          76027,
          72554,
          33936
         ]
        },
        {
         "marker": {
          "line": {
           "width": 1
          }
         },
         "name": "passenger_count",
         "type": "bar",
         "x": [
          2009,
          2010,
          2011,
          2012,
          2013,
          2014,
          2015
         ],
         "y": [
          127051,
          122847,
          127137,
          130884,
          130234,
          122857,
          57291
         ]
        },
        {
         "marker": {
          "line": {
           "width": 1
          }
         },
         "name": "trip_distance_km",
         "type": "bar",
         "x": [
          2009,
          2010,
          2011,
          2012,
          2013,
          2014,
          2015
         ],
         "y": [
          233541.28064579534,
          233795.73274730943,
          247108.93473002102,
          253862.9575993431,
          254970.65301995585,
          245298.60748610916,
          113697.89600911886
         ]
        },
        {
         "marker": {
          "line": {
           "width": 1
          }
         },
         "name": "fare_amount",
         "type": "bar",
         "x": [
          2009,
          2010,
          2011,
          2012,
          2013,
          2014,
          2015
         ],
         "y": [
          741872.93,
          737616.27,
          780449.23,
          845331.55,
          940589.4,
          924016.99,
          432392.16
         ]
        }
       ],
       "layout": {
        "paper_bgcolor": "rgb(243,243,243)",
        "plot_bgcolor": "rgb(243,243,243)",
        "template": {
         "data": {
          "bar": [
           {
            "error_x": {
             "color": "#2a3f5f"
            },
            "error_y": {
             "color": "#2a3f5f"
            },
            "marker": {
             "line": {
              "color": "#E5ECF6",
              "width": 0.5
             },
             "pattern": {
              "fillmode": "overlay",
              "size": 10,
              "solidity": 0.2
             }
            },
            "type": "bar"
           }
          ],
          "barpolar": [
           {
            "marker": {
             "line": {
              "color": "#E5ECF6",
              "width": 0.5
             },
             "pattern": {
              "fillmode": "overlay",
              "size": 10,
              "solidity": 0.2
             }
            },
            "type": "barpolar"
           }
          ],
          "carpet": [
           {
            "aaxis": {
             "endlinecolor": "#2a3f5f",
             "gridcolor": "white",
             "linecolor": "white",
             "minorgridcolor": "white",
             "startlinecolor": "#2a3f5f"
            },
            "baxis": {
             "endlinecolor": "#2a3f5f",
             "gridcolor": "white",
             "linecolor": "white",
             "minorgridcolor": "white",
             "startlinecolor": "#2a3f5f"
            },
            "type": "carpet"
           }
          ],
          "choropleth": [
           {
            "colorbar": {
             "outlinewidth": 0,
             "ticks": ""
            },
            "type": "choropleth"
           }
          ],
          "contour": [
           {
            "colorbar": {
             "outlinewidth": 0,
             "ticks": ""
            },
            "colorscale": [
             [
              0,
              "#0d0887"
             ],
             [
              0.1111111111111111,
              "#46039f"
             ],
             [
              0.2222222222222222,
              "#7201a8"
             ],
             [
              0.3333333333333333,
              "#9c179e"
             ],
             [
              0.4444444444444444,
              "#bd3786"
             ],
             [
              0.5555555555555556,
              "#d8576b"
             ],
             [
              0.6666666666666666,
              "#ed7953"
             ],
             [
              0.7777777777777778,
              "#fb9f3a"
             ],
             [
              0.8888888888888888,
              "#fdca26"
             ],
             [
              1,
              "#f0f921"
             ]
            ],
            "type": "contour"
           }
          ],
          "contourcarpet": [
           {
            "colorbar": {
             "outlinewidth": 0,
             "ticks": ""
            },
            "type": "contourcarpet"
           }
          ],
          "heatmap": [
           {
            "colorbar": {
             "outlinewidth": 0,
             "ticks": ""
            },
            "colorscale": [
             [
              0,
              "#0d0887"
             ],
             [
              0.1111111111111111,
              "#46039f"
             ],
             [
              0.2222222222222222,
              "#7201a8"
             ],
             [
              0.3333333333333333,
              "#9c179e"
             ],
             [
              0.4444444444444444,
              "#bd3786"
             ],
             [
              0.5555555555555556,
              "#d8576b"
             ],
             [
              0.6666666666666666,
              "#ed7953"
             ],
             [
              0.7777777777777778,
              "#fb9f3a"
             ],
             [
              0.8888888888888888,
              "#fdca26"
             ],
             [
              1,
              "#f0f921"
             ]
            ],
            "type": "heatmap"
           }
          ],
          "heatmapgl": [
           {
            "colorbar": {
             "outlinewidth": 0,
             "ticks": ""
            },
            "colorscale": [
             [
              0,
              "#0d0887"
             ],
             [
              0.1111111111111111,
              "#46039f"
             ],
             [
              0.2222222222222222,
              "#7201a8"
             ],
             [
              0.3333333333333333,
              "#9c179e"
             ],
             [
              0.4444444444444444,
              "#bd3786"
             ],
             [
              0.5555555555555556,
              "#d8576b"
             ],
             [
              0.6666666666666666,
              "#ed7953"
             ],
             [
              0.7777777777777778,
              "#fb9f3a"
             ],
             [
              0.8888888888888888,
              "#fdca26"
             ],
             [
              1,
              "#f0f921"
             ]
            ],
            "type": "heatmapgl"
           }
          ],
          "histogram": [
           {
            "marker": {
             "pattern": {
              "fillmode": "overlay",
              "size": 10,
              "solidity": 0.2
             }
            },
            "type": "histogram"
           }
          ],
          "histogram2d": [
           {
            "colorbar": {
             "outlinewidth": 0,
             "ticks": ""
            },
            "colorscale": [
             [
              0,
              "#0d0887"
             ],
             [
              0.1111111111111111,
              "#46039f"
             ],
             [
              0.2222222222222222,
              "#7201a8"
             ],
             [
              0.3333333333333333,
              "#9c179e"
             ],
             [
              0.4444444444444444,
              "#bd3786"
             ],
             [
              0.5555555555555556,
              "#d8576b"
             ],
             [
              0.6666666666666666,
              "#ed7953"
             ],
             [
              0.7777777777777778,
              "#fb9f3a"
             ],
             [
              0.8888888888888888,
              "#fdca26"
             ],
             [
              1,
              "#f0f921"
             ]
            ],
            "type": "histogram2d"
           }
          ],
          "histogram2dcontour": [
           {
            "colorbar": {
             "outlinewidth": 0,
             "ticks": ""
            },
            "colorscale": [
             [
              0,
              "#0d0887"
             ],
             [
              0.1111111111111111,
              "#46039f"
             ],
             [
              0.2222222222222222,
              "#7201a8"
             ],
             [
              0.3333333333333333,
              "#9c179e"
             ],
             [
              0.4444444444444444,
              "#bd3786"
             ],
             [
              0.5555555555555556,
              "#d8576b"
             ],
             [
              0.6666666666666666,
              "#ed7953"
             ],
             [
              0.7777777777777778,
              "#fb9f3a"
             ],
             [
              0.8888888888888888,
              "#fdca26"
             ],
             [
              1,
              "#f0f921"
             ]
            ],
            "type": "histogram2dcontour"
           }
          ],
          "mesh3d": [
           {
            "colorbar": {
             "outlinewidth": 0,
             "ticks": ""
            },
            "type": "mesh3d"
           }
          ],
          "parcoords": [
           {
            "line": {
             "colorbar": {
              "outlinewidth": 0,
              "ticks": ""
             }
            },
            "type": "parcoords"
           }
          ],
          "pie": [
           {
            "automargin": true,
            "type": "pie"
           }
          ],
          "scatter": [
           {
            "fillpattern": {
             "fillmode": "overlay",
             "size": 10,
             "solidity": 0.2
            },
            "type": "scatter"
           }
          ],
          "scatter3d": [
           {
            "line": {
             "colorbar": {
              "outlinewidth": 0,
              "ticks": ""
             }
            },
            "marker": {
             "colorbar": {
              "outlinewidth": 0,
              "ticks": ""
             }
            },
            "type": "scatter3d"
           }
          ],
          "scattercarpet": [
           {
            "marker": {
             "colorbar": {
              "outlinewidth": 0,
              "ticks": ""
             }
            },
            "type": "scattercarpet"
           }
          ],
          "scattergeo": [
           {
            "marker": {
             "colorbar": {
              "outlinewidth": 0,
              "ticks": ""
             }
            },
            "type": "scattergeo"
           }
          ],
          "scattergl": [
           {
            "marker": {
             "colorbar": {
              "outlinewidth": 0,
              "ticks": ""
             }
            },
            "type": "scattergl"
           }
          ],
          "scattermapbox": [
           {
            "marker": {
             "colorbar": {
              "outlinewidth": 0,
              "ticks": ""
             }
            },
            "type": "scattermapbox"
           }
          ],
          "scatterpolar": [
           {
            "marker": {
             "colorbar": {
              "outlinewidth": 0,
              "ticks": ""
             }
            },
            "type": "scatterpolar"
           }
          ],
          "scatterpolargl": [
           {
            "marker": {
             "colorbar": {
              "outlinewidth": 0,
              "ticks": ""
             }
            },
            "type": "scatterpolargl"
           }
          ],
          "scatterternary": [
           {
            "marker": {
             "colorbar": {
              "outlinewidth": 0,
              "ticks": ""
             }
            },
            "type": "scatterternary"
           }
          ],
          "surface": [
           {
            "colorbar": {
             "outlinewidth": 0,
             "ticks": ""
            },
            "colorscale": [
             [
              0,
              "#0d0887"
             ],
             [
              0.1111111111111111,
              "#46039f"
             ],
             [
              0.2222222222222222,
              "#7201a8"
             ],
             [
              0.3333333333333333,
              "#9c179e"
             ],
             [
              0.4444444444444444,
              "#bd3786"
             ],
             [
              0.5555555555555556,
              "#d8576b"
             ],
             [
              0.6666666666666666,
              "#ed7953"
             ],
             [
              0.7777777777777778,
              "#fb9f3a"
             ],
             [
              0.8888888888888888,
              "#fdca26"
             ],
             [
              1,
              "#f0f921"
             ]
            ],
            "type": "surface"
           }
          ],
          "table": [
           {
            "cells": {
             "fill": {
              "color": "#EBF0F8"
             },
             "line": {
              "color": "white"
             }
            },
            "header": {
             "fill": {
              "color": "#C8D4E3"
             },
             "line": {
              "color": "white"
             }
            },
            "type": "table"
           }
          ]
         },
         "layout": {
          "annotationdefaults": {
           "arrowcolor": "#2a3f5f",
           "arrowhead": 0,
           "arrowwidth": 1
          },
          "autotypenumbers": "strict",
          "coloraxis": {
           "colorbar": {
            "outlinewidth": 0,
            "ticks": ""
           }
          },
          "colorscale": {
           "diverging": [
            [
             0,
             "#8e0152"
            ],
            [
             0.1,
             "#c51b7d"
            ],
            [
             0.2,
             "#de77ae"
            ],
            [
             0.3,
             "#f1b6da"
            ],
            [
             0.4,
             "#fde0ef"
            ],
            [
             0.5,
             "#f7f7f7"
            ],
            [
             0.6,
             "#e6f5d0"
            ],
            [
             0.7,
             "#b8e186"
            ],
            [
             0.8,
             "#7fbc41"
            ],
            [
             0.9,
             "#4d9221"
            ],
            [
             1,
             "#276419"
            ]
           ],
           "sequential": [
            [
             0,
             "#0d0887"
            ],
            [
             0.1111111111111111,
             "#46039f"
            ],
            [
             0.2222222222222222,
             "#7201a8"
            ],
            [
             0.3333333333333333,
             "#9c179e"
            ],
            [
             0.4444444444444444,
             "#bd3786"
            ],
            [
             0.5555555555555556,
             "#d8576b"
            ],
            [
             0.6666666666666666,
             "#ed7953"
            ],
            [
             0.7777777777777778,
             "#fb9f3a"
            ],
            [
             0.8888888888888888,
             "#fdca26"
            ],
            [
             1,
             "#f0f921"
            ]
           ],
           "sequentialminus": [
            [
             0,
             "#0d0887"
            ],
            [
             0.1111111111111111,
             "#46039f"
            ],
            [
             0.2222222222222222,
             "#7201a8"
            ],
            [
             0.3333333333333333,
             "#9c179e"
            ],
            [
             0.4444444444444444,
             "#bd3786"
            ],
            [
             0.5555555555555556,
             "#d8576b"
            ],
            [
             0.6666666666666666,
             "#ed7953"
            ],
            [
             0.7777777777777778,
             "#fb9f3a"
            ],
            [
             0.8888888888888888,
             "#fdca26"
            ],
            [
             1,
             "#f0f921"
            ]
           ]
          },
          "colorway": [
           "#636efa",
           "#EF553B",
           "#00cc96",
           "#ab63fa",
           "#FFA15A",
           "#19d3f3",
           "#FF6692",
           "#B6E880",
           "#FF97FF",
           "#FECB52"
          ],
          "font": {
           "color": "#2a3f5f"
          },
          "geo": {
           "bgcolor": "white",
           "lakecolor": "white",
           "landcolor": "#E5ECF6",
           "showlakes": true,
           "showland": true,
           "subunitcolor": "white"
          },
          "hoverlabel": {
           "align": "left"
          },
          "hovermode": "closest",
          "mapbox": {
           "style": "light"
          },
          "paper_bgcolor": "white",
          "plot_bgcolor": "#E5ECF6",
          "polar": {
           "angularaxis": {
            "gridcolor": "white",
            "linecolor": "white",
            "ticks": ""
           },
           "bgcolor": "#E5ECF6",
           "radialaxis": {
            "gridcolor": "white",
            "linecolor": "white",
            "ticks": ""
           }
          },
          "scene": {
           "xaxis": {
            "backgroundcolor": "#E5ECF6",
            "gridcolor": "white",
            "gridwidth": 2,
            "linecolor": "white",
            "showbackground": true,
            "ticks": "",
            "zerolinecolor": "white"
           },
           "yaxis": {
            "backgroundcolor": "#E5ECF6",
            "gridcolor": "white",
            "gridwidth": 2,
            "linecolor": "white",
            "showbackground": true,
            "ticks": "",
            "zerolinecolor": "white"
           },
           "zaxis": {
            "backgroundcolor": "#E5ECF6",
            "gridcolor": "white",
            "gridwidth": 2,
            "linecolor": "white",
            "showbackground": true,
            "ticks": "",
            "zerolinecolor": "white"
           }
          },
          "shapedefaults": {
           "line": {
            "color": "#2a3f5f"
           }
          },
          "ternary": {
           "aaxis": {
            "gridcolor": "white",
            "linecolor": "white",
            "ticks": ""
           },
           "baxis": {
            "gridcolor": "white",
            "linecolor": "white",
            "ticks": ""
           },
           "bgcolor": "#E5ECF6",
           "caxis": {
            "gridcolor": "white",
            "linecolor": "white",
            "ticks": ""
           }
          },
          "title": {
           "x": 0.05
          },
          "xaxis": {
           "automargin": true,
           "gridcolor": "white",
           "linecolor": "white",
           "ticks": "",
           "title": {
            "standoff": 15
           },
           "zerolinecolor": "white",
           "zerolinewidth": 2
          },
          "yaxis": {
           "automargin": true,
           "gridcolor": "white",
           "linecolor": "white",
           "ticks": "",
           "title": {
            "standoff": 15
           },
           "zerolinecolor": "white",
           "zerolinewidth": 2
          }
         }
        },
        "title": {
         "text": "Total trips, Passengers, Distance and Fare Amount per Year"
        },
        "xaxis": {
         "gridcolor": "rgb(255, 255, 255)",
         "gridwidth": 2,
         "ticklen": 5,
         "title": {
          "text": "Year"
         },
         "zerolinewidth": 1
        },
        "yaxis": {
         "gridcolor": "rgb(255, 255, 255)",
         "gridwidth": 2,
         "ticklen": 5,
         "title": {
          "text": "Count"
         },
         "zerolinewidth": 1
        }
       }
      },
      "text/html": [
       "<div>                            <div id=\"e2ecb2bb-5d28-47e3-a8a4-07df7dce90b0\" class=\"plotly-graph-div\" style=\"height:525px; width:100%;\"></div>            <script type=\"text/javascript\">                require([\"plotly\"], function(Plotly) {                    window.PLOTLYENV=window.PLOTLYENV || {};                                    if (document.getElementById(\"e2ecb2bb-5d28-47e3-a8a4-07df7dce90b0\")) {                    Plotly.newPlot(                        \"e2ecb2bb-5d28-47e3-a8a4-07df7dce90b0\",                        [{\"marker\":{\"line\":{\"width\":1}},\"name\":\"trip_count\",\"x\":[2009,2010,2011,2012,2013,2014,2015],\"y\":[75308,73541,75824,77154,76027,72554,33936],\"type\":\"bar\"},{\"marker\":{\"line\":{\"width\":1}},\"name\":\"passenger_count\",\"x\":[2009,2010,2011,2012,2013,2014,2015],\"y\":[127051,122847,127137,130884,130234,122857,57291],\"type\":\"bar\"},{\"marker\":{\"line\":{\"width\":1}},\"name\":\"trip_distance_km\",\"x\":[2009,2010,2011,2012,2013,2014,2015],\"y\":[233541.28064579534,233795.73274730943,247108.93473002102,253862.9575993431,254970.65301995585,245298.60748610916,113697.89600911886],\"type\":\"bar\"},{\"marker\":{\"line\":{\"width\":1}},\"name\":\"fare_amount\",\"x\":[2009,2010,2011,2012,2013,2014,2015],\"y\":[741872.93,737616.27,780449.23,845331.55,940589.4,924016.99,432392.16],\"type\":\"bar\"}],                        {\"paper_bgcolor\":\"rgb(243,243,243)\",\"plot_bgcolor\":\"rgb(243,243,243)\",\"template\":{\"data\":{\"barpolar\":[{\"marker\":{\"line\":{\"color\":\"#E5ECF6\",\"width\":0.5},\"pattern\":{\"fillmode\":\"overlay\",\"size\":10,\"solidity\":0.2}},\"type\":\"barpolar\"}],\"bar\":[{\"error_x\":{\"color\":\"#2a3f5f\"},\"error_y\":{\"color\":\"#2a3f5f\"},\"marker\":{\"line\":{\"color\":\"#E5ECF6\",\"width\":0.5},\"pattern\":{\"fillmode\":\"overlay\",\"size\":10,\"solidity\":0.2}},\"type\":\"bar\"}],\"carpet\":[{\"aaxis\":{\"endlinecolor\":\"#2a3f5f\",\"gridcolor\":\"white\",\"linecolor\":\"white\",\"minorgridcolor\":\"white\",\"startlinecolor\":\"#2a3f5f\"},\"baxis\":{\"endlinecolor\":\"#2a3f5f\",\"gridcolor\":\"white\",\"linecolor\":\"white\",\"minorgridcolor\":\"white\",\"startlinecolor\":\"#2a3f5f\"},\"type\":\"carpet\"}],\"choropleth\":[{\"colorbar\":{\"outlinewidth\":0,\"ticks\":\"\"},\"type\":\"choropleth\"}],\"contourcarpet\":[{\"colorbar\":{\"outlinewidth\":0,\"ticks\":\"\"},\"type\":\"contourcarpet\"}],\"contour\":[{\"colorbar\":{\"outlinewidth\":0,\"ticks\":\"\"},\"colorscale\":[[0.0,\"#0d0887\"],[0.1111111111111111,\"#46039f\"],[0.2222222222222222,\"#7201a8\"],[0.3333333333333333,\"#9c179e\"],[0.4444444444444444,\"#bd3786\"],[0.5555555555555556,\"#d8576b\"],[0.6666666666666666,\"#ed7953\"],[0.7777777777777778,\"#fb9f3a\"],[0.8888888888888888,\"#fdca26\"],[1.0,\"#f0f921\"]],\"type\":\"contour\"}],\"heatmapgl\":[{\"colorbar\":{\"outlinewidth\":0,\"ticks\":\"\"},\"colorscale\":[[0.0,\"#0d0887\"],[0.1111111111111111,\"#46039f\"],[0.2222222222222222,\"#7201a8\"],[0.3333333333333333,\"#9c179e\"],[0.4444444444444444,\"#bd3786\"],[0.5555555555555556,\"#d8576b\"],[0.6666666666666666,\"#ed7953\"],[0.7777777777777778,\"#fb9f3a\"],[0.8888888888888888,\"#fdca26\"],[1.0,\"#f0f921\"]],\"type\":\"heatmapgl\"}],\"heatmap\":[{\"colorbar\":{\"outlinewidth\":0,\"ticks\":\"\"},\"colorscale\":[[0.0,\"#0d0887\"],[0.1111111111111111,\"#46039f\"],[0.2222222222222222,\"#7201a8\"],[0.3333333333333333,\"#9c179e\"],[0.4444444444444444,\"#bd3786\"],[0.5555555555555556,\"#d8576b\"],[0.6666666666666666,\"#ed7953\"],[0.7777777777777778,\"#fb9f3a\"],[0.8888888888888888,\"#fdca26\"],[1.0,\"#f0f921\"]],\"type\":\"heatmap\"}],\"histogram2dcontour\":[{\"colorbar\":{\"outlinewidth\":0,\"ticks\":\"\"},\"colorscale\":[[0.0,\"#0d0887\"],[0.1111111111111111,\"#46039f\"],[0.2222222222222222,\"#7201a8\"],[0.3333333333333333,\"#9c179e\"],[0.4444444444444444,\"#bd3786\"],[0.5555555555555556,\"#d8576b\"],[0.6666666666666666,\"#ed7953\"],[0.7777777777777778,\"#fb9f3a\"],[0.8888888888888888,\"#fdca26\"],[1.0,\"#f0f921\"]],\"type\":\"histogram2dcontour\"}],\"histogram2d\":[{\"colorbar\":{\"outlinewidth\":0,\"ticks\":\"\"},\"colorscale\":[[0.0,\"#0d0887\"],[0.1111111111111111,\"#46039f\"],[0.2222222222222222,\"#7201a8\"],[0.3333333333333333,\"#9c179e\"],[0.4444444444444444,\"#bd3786\"],[0.5555555555555556,\"#d8576b\"],[0.6666666666666666,\"#ed7953\"],[0.7777777777777778,\"#fb9f3a\"],[0.8888888888888888,\"#fdca26\"],[1.0,\"#f0f921\"]],\"type\":\"histogram2d\"}],\"histogram\":[{\"marker\":{\"pattern\":{\"fillmode\":\"overlay\",\"size\":10,\"solidity\":0.2}},\"type\":\"histogram\"}],\"mesh3d\":[{\"colorbar\":{\"outlinewidth\":0,\"ticks\":\"\"},\"type\":\"mesh3d\"}],\"parcoords\":[{\"line\":{\"colorbar\":{\"outlinewidth\":0,\"ticks\":\"\"}},\"type\":\"parcoords\"}],\"pie\":[{\"automargin\":true,\"type\":\"pie\"}],\"scatter3d\":[{\"line\":{\"colorbar\":{\"outlinewidth\":0,\"ticks\":\"\"}},\"marker\":{\"colorbar\":{\"outlinewidth\":0,\"ticks\":\"\"}},\"type\":\"scatter3d\"}],\"scattercarpet\":[{\"marker\":{\"colorbar\":{\"outlinewidth\":0,\"ticks\":\"\"}},\"type\":\"scattercarpet\"}],\"scattergeo\":[{\"marker\":{\"colorbar\":{\"outlinewidth\":0,\"ticks\":\"\"}},\"type\":\"scattergeo\"}],\"scattergl\":[{\"marker\":{\"colorbar\":{\"outlinewidth\":0,\"ticks\":\"\"}},\"type\":\"scattergl\"}],\"scattermapbox\":[{\"marker\":{\"colorbar\":{\"outlinewidth\":0,\"ticks\":\"\"}},\"type\":\"scattermapbox\"}],\"scatterpolargl\":[{\"marker\":{\"colorbar\":{\"outlinewidth\":0,\"ticks\":\"\"}},\"type\":\"scatterpolargl\"}],\"scatterpolar\":[{\"marker\":{\"colorbar\":{\"outlinewidth\":0,\"ticks\":\"\"}},\"type\":\"scatterpolar\"}],\"scatter\":[{\"fillpattern\":{\"fillmode\":\"overlay\",\"size\":10,\"solidity\":0.2},\"type\":\"scatter\"}],\"scatterternary\":[{\"marker\":{\"colorbar\":{\"outlinewidth\":0,\"ticks\":\"\"}},\"type\":\"scatterternary\"}],\"surface\":[{\"colorbar\":{\"outlinewidth\":0,\"ticks\":\"\"},\"colorscale\":[[0.0,\"#0d0887\"],[0.1111111111111111,\"#46039f\"],[0.2222222222222222,\"#7201a8\"],[0.3333333333333333,\"#9c179e\"],[0.4444444444444444,\"#bd3786\"],[0.5555555555555556,\"#d8576b\"],[0.6666666666666666,\"#ed7953\"],[0.7777777777777778,\"#fb9f3a\"],[0.8888888888888888,\"#fdca26\"],[1.0,\"#f0f921\"]],\"type\":\"surface\"}],\"table\":[{\"cells\":{\"fill\":{\"color\":\"#EBF0F8\"},\"line\":{\"color\":\"white\"}},\"header\":{\"fill\":{\"color\":\"#C8D4E3\"},\"line\":{\"color\":\"white\"}},\"type\":\"table\"}]},\"layout\":{\"annotationdefaults\":{\"arrowcolor\":\"#2a3f5f\",\"arrowhead\":0,\"arrowwidth\":1},\"autotypenumbers\":\"strict\",\"coloraxis\":{\"colorbar\":{\"outlinewidth\":0,\"ticks\":\"\"}},\"colorscale\":{\"diverging\":[[0,\"#8e0152\"],[0.1,\"#c51b7d\"],[0.2,\"#de77ae\"],[0.3,\"#f1b6da\"],[0.4,\"#fde0ef\"],[0.5,\"#f7f7f7\"],[0.6,\"#e6f5d0\"],[0.7,\"#b8e186\"],[0.8,\"#7fbc41\"],[0.9,\"#4d9221\"],[1,\"#276419\"]],\"sequential\":[[0.0,\"#0d0887\"],[0.1111111111111111,\"#46039f\"],[0.2222222222222222,\"#7201a8\"],[0.3333333333333333,\"#9c179e\"],[0.4444444444444444,\"#bd3786\"],[0.5555555555555556,\"#d8576b\"],[0.6666666666666666,\"#ed7953\"],[0.7777777777777778,\"#fb9f3a\"],[0.8888888888888888,\"#fdca26\"],[1.0,\"#f0f921\"]],\"sequentialminus\":[[0.0,\"#0d0887\"],[0.1111111111111111,\"#46039f\"],[0.2222222222222222,\"#7201a8\"],[0.3333333333333333,\"#9c179e\"],[0.4444444444444444,\"#bd3786\"],[0.5555555555555556,\"#d8576b\"],[0.6666666666666666,\"#ed7953\"],[0.7777777777777778,\"#fb9f3a\"],[0.8888888888888888,\"#fdca26\"],[1.0,\"#f0f921\"]]},\"colorway\":[\"#636efa\",\"#EF553B\",\"#00cc96\",\"#ab63fa\",\"#FFA15A\",\"#19d3f3\",\"#FF6692\",\"#B6E880\",\"#FF97FF\",\"#FECB52\"],\"font\":{\"color\":\"#2a3f5f\"},\"geo\":{\"bgcolor\":\"white\",\"lakecolor\":\"white\",\"landcolor\":\"#E5ECF6\",\"showlakes\":true,\"showland\":true,\"subunitcolor\":\"white\"},\"hoverlabel\":{\"align\":\"left\"},\"hovermode\":\"closest\",\"mapbox\":{\"style\":\"light\"},\"paper_bgcolor\":\"white\",\"plot_bgcolor\":\"#E5ECF6\",\"polar\":{\"angularaxis\":{\"gridcolor\":\"white\",\"linecolor\":\"white\",\"ticks\":\"\"},\"bgcolor\":\"#E5ECF6\",\"radialaxis\":{\"gridcolor\":\"white\",\"linecolor\":\"white\",\"ticks\":\"\"}},\"scene\":{\"xaxis\":{\"backgroundcolor\":\"#E5ECF6\",\"gridcolor\":\"white\",\"gridwidth\":2,\"linecolor\":\"white\",\"showbackground\":true,\"ticks\":\"\",\"zerolinecolor\":\"white\"},\"yaxis\":{\"backgroundcolor\":\"#E5ECF6\",\"gridcolor\":\"white\",\"gridwidth\":2,\"linecolor\":\"white\",\"showbackground\":true,\"ticks\":\"\",\"zerolinecolor\":\"white\"},\"zaxis\":{\"backgroundcolor\":\"#E5ECF6\",\"gridcolor\":\"white\",\"gridwidth\":2,\"linecolor\":\"white\",\"showbackground\":true,\"ticks\":\"\",\"zerolinecolor\":\"white\"}},\"shapedefaults\":{\"line\":{\"color\":\"#2a3f5f\"}},\"ternary\":{\"aaxis\":{\"gridcolor\":\"white\",\"linecolor\":\"white\",\"ticks\":\"\"},\"baxis\":{\"gridcolor\":\"white\",\"linecolor\":\"white\",\"ticks\":\"\"},\"bgcolor\":\"#E5ECF6\",\"caxis\":{\"gridcolor\":\"white\",\"linecolor\":\"white\",\"ticks\":\"\"}},\"title\":{\"x\":0.05},\"xaxis\":{\"automargin\":true,\"gridcolor\":\"white\",\"linecolor\":\"white\",\"ticks\":\"\",\"title\":{\"standoff\":15},\"zerolinecolor\":\"white\",\"zerolinewidth\":2},\"yaxis\":{\"automargin\":true,\"gridcolor\":\"white\",\"linecolor\":\"white\",\"ticks\":\"\",\"title\":{\"standoff\":15},\"zerolinecolor\":\"white\",\"zerolinewidth\":2}}},\"title\":{\"text\":\"Total trips, Passengers, Distance and Fare Amount per Year\"},\"xaxis\":{\"gridcolor\":\"rgb(255, 255, 255)\",\"gridwidth\":2,\"ticklen\":5,\"title\":{\"text\":\"Year\"},\"zerolinewidth\":1},\"yaxis\":{\"gridcolor\":\"rgb(255, 255, 255)\",\"gridwidth\":2,\"ticklen\":5,\"title\":{\"text\":\"Count\"},\"zerolinewidth\":1}},                        {\"responsive\": true}                    ).then(function(){\n",
       "                            \n",
       "var gd = document.getElementById('e2ecb2bb-5d28-47e3-a8a4-07df7dce90b0');\n",
       "var x = new MutationObserver(function (mutations, observer) {{\n",
       "        var display = window.getComputedStyle(gd).display;\n",
       "        if (!display || display === 'none') {{\n",
       "            console.log([gd, 'removed!']);\n",
       "            Plotly.purge(gd);\n",
       "            observer.disconnect();\n",
       "        }}\n",
       "}});\n",
       "\n",
       "// Listen for the removal of the full notebook cells\n",
       "var notebookContainer = gd.closest('#notebook-container');\n",
       "if (notebookContainer) {{\n",
       "    x.observe(notebookContainer, {childList: true});\n",
       "}}\n",
       "\n",
       "// Listen for the clearing of the current output cell\n",
       "var outputEl = gd.closest('.output');\n",
       "if (outputEl) {{\n",
       "    x.observe(outputEl, {childList: true});\n",
       "}}\n",
       "\n",
       "                        })                };                });            </script>        </div>"
      ]
     },
     "metadata": {},
     "output_type": "display_data"
    }
   ],
   "source": [
    "yearly_analysis  = nyc_data.groupby(\"year\").agg({\"key\":\"count\",\n",
    "                                                 \"fare_amount\":\"sum\",\n",
    "                                                 \"passenger_count\":\"sum\",\n",
    "                                                 \"trip_distance_km\" : \"sum\"}).reset_index()\n",
    "#aggregating by year\n",
    "yearly_analysis = yearly_analysis.rename(columns = {\"key\" : \"trip_count\"})\n",
    "\n",
    "#plotting trips ,passengers and fare amount by year\n",
    "def plotting(column) : \n",
    "    tracer = go.Bar(x= yearly_analysis[\"year\"],y = yearly_analysis[column],\n",
    "                    marker = dict(line = dict(width = 1)),\n",
    "                    name = column\n",
    "                   )\n",
    "    return tracer\n",
    "\n",
    "#layout\n",
    "layout = go.Layout(dict(title = \"Total trips, Passengers, Distance and Fare Amount per Year\",\n",
    "                        plot_bgcolor  = \"rgb(243,243,243)\",\n",
    "                        paper_bgcolor = \"rgb(243,243,243)\",\n",
    "                        xaxis = dict(gridcolor = 'rgb(255, 255, 255)',title = \"Year\",\n",
    "                                     zerolinewidth=1,ticklen=5,gridwidth=2),\n",
    "                        yaxis = dict(gridcolor = 'rgb(255, 255, 255)',title = \"Count\",\n",
    "                                     zerolinewidth=1,ticklen=5,gridwidth=2),\n",
    "                       )\n",
    "                  )\n",
    "    \n",
    "data = [plotting(\"trip_count\"),plotting(\"passenger_count\"),\n",
    "        plotting(\"trip_distance_km\"),plotting(\"fare_amount\")]\n",
    "fig  = go.Figure(data=data,layout=layout)\n",
    "py.iplot(fig)"
   ]
  },
  {
   "cell_type": "markdown",
   "id": "64ca0733",
   "metadata": {},
   "source": [
    "Trend in Trips by Hour of Day"
   ]
  },
  {
   "cell_type": "code",
   "execution_count": 8,
   "id": "72452a56",
   "metadata": {
    "scrolled": true
   },
   "outputs": [
    {
     "data": {
      "application/vnd.plotly.v1+json": {
       "config": {
        "linkText": "Export to plot.ly",
        "plotlyServerURL": "https://plot.ly",
        "showLink": false
       },
       "data": [
        {
         "marker": {
          "color": "red",
          "line": {
           "color": "black",
           "width": 2
          },
          "size": 9
         },
         "mode": "markers+lines",
         "type": "scatter",
         "x": [
          0,
          1,
          2,
          3,
          4,
          5,
          6,
          7,
          8,
          9,
          10,
          11,
          12,
          13,
          14,
          15,
          16,
          17,
          18,
          19,
          20,
          21,
          22,
          23
         ],
         "y": [
          18949,
          14062,
          10510,
          7620,
          5608,
          4743,
          9972,
          17670,
          21951,
          22910,
          21771,
          22656,
          23904,
          23631,
          24642,
          23287,
          19935,
          23880,
          29178,
          30434,
          28330,
          27699,
          26946,
          24056
         ]
        }
       ],
       "layout": {
        "paper_bgcolor": "rgb(243,243,243)",
        "plot_bgcolor": "rgb(243,243,243)",
        "template": {
         "data": {
          "bar": [
           {
            "error_x": {
             "color": "#2a3f5f"
            },
            "error_y": {
             "color": "#2a3f5f"
            },
            "marker": {
             "line": {
              "color": "#E5ECF6",
              "width": 0.5
             },
             "pattern": {
              "fillmode": "overlay",
              "size": 10,
              "solidity": 0.2
             }
            },
            "type": "bar"
           }
          ],
          "barpolar": [
           {
            "marker": {
             "line": {
              "color": "#E5ECF6",
              "width": 0.5
             },
             "pattern": {
              "fillmode": "overlay",
              "size": 10,
              "solidity": 0.2
             }
            },
            "type": "barpolar"
           }
          ],
          "carpet": [
           {
            "aaxis": {
             "endlinecolor": "#2a3f5f",
             "gridcolor": "white",
             "linecolor": "white",
             "minorgridcolor": "white",
             "startlinecolor": "#2a3f5f"
            },
            "baxis": {
             "endlinecolor": "#2a3f5f",
             "gridcolor": "white",
             "linecolor": "white",
             "minorgridcolor": "white",
             "startlinecolor": "#2a3f5f"
            },
            "type": "carpet"
           }
          ],
          "choropleth": [
           {
            "colorbar": {
             "outlinewidth": 0,
             "ticks": ""
            },
            "type": "choropleth"
           }
          ],
          "contour": [
           {
            "colorbar": {
             "outlinewidth": 0,
             "ticks": ""
            },
            "colorscale": [
             [
              0,
              "#0d0887"
             ],
             [
              0.1111111111111111,
              "#46039f"
             ],
             [
              0.2222222222222222,
              "#7201a8"
             ],
             [
              0.3333333333333333,
              "#9c179e"
             ],
             [
              0.4444444444444444,
              "#bd3786"
             ],
             [
              0.5555555555555556,
              "#d8576b"
             ],
             [
              0.6666666666666666,
              "#ed7953"
             ],
             [
              0.7777777777777778,
              "#fb9f3a"
             ],
             [
              0.8888888888888888,
              "#fdca26"
             ],
             [
              1,
              "#f0f921"
             ]
            ],
            "type": "contour"
           }
          ],
          "contourcarpet": [
           {
            "colorbar": {
             "outlinewidth": 0,
             "ticks": ""
            },
            "type": "contourcarpet"
           }
          ],
          "heatmap": [
           {
            "colorbar": {
             "outlinewidth": 0,
             "ticks": ""
            },
            "colorscale": [
             [
              0,
              "#0d0887"
             ],
             [
              0.1111111111111111,
              "#46039f"
             ],
             [
              0.2222222222222222,
              "#7201a8"
             ],
             [
              0.3333333333333333,
              "#9c179e"
             ],
             [
              0.4444444444444444,
              "#bd3786"
             ],
             [
              0.5555555555555556,
              "#d8576b"
             ],
             [
              0.6666666666666666,
              "#ed7953"
             ],
             [
              0.7777777777777778,
              "#fb9f3a"
             ],
             [
              0.8888888888888888,
              "#fdca26"
             ],
             [
              1,
              "#f0f921"
             ]
            ],
            "type": "heatmap"
           }
          ],
          "heatmapgl": [
           {
            "colorbar": {
             "outlinewidth": 0,
             "ticks": ""
            },
            "colorscale": [
             [
              0,
              "#0d0887"
             ],
             [
              0.1111111111111111,
              "#46039f"
             ],
             [
              0.2222222222222222,
              "#7201a8"
             ],
             [
              0.3333333333333333,
              "#9c179e"
             ],
             [
              0.4444444444444444,
              "#bd3786"
             ],
             [
              0.5555555555555556,
              "#d8576b"
             ],
             [
              0.6666666666666666,
              "#ed7953"
             ],
             [
              0.7777777777777778,
              "#fb9f3a"
             ],
             [
              0.8888888888888888,
              "#fdca26"
             ],
             [
              1,
              "#f0f921"
             ]
            ],
            "type": "heatmapgl"
           }
          ],
          "histogram": [
           {
            "marker": {
             "pattern": {
              "fillmode": "overlay",
              "size": 10,
              "solidity": 0.2
             }
            },
            "type": "histogram"
           }
          ],
          "histogram2d": [
           {
            "colorbar": {
             "outlinewidth": 0,
             "ticks": ""
            },
            "colorscale": [
             [
              0,
              "#0d0887"
             ],
             [
              0.1111111111111111,
              "#46039f"
             ],
             [
              0.2222222222222222,
              "#7201a8"
             ],
             [
              0.3333333333333333,
              "#9c179e"
             ],
             [
              0.4444444444444444,
              "#bd3786"
             ],
             [
              0.5555555555555556,
              "#d8576b"
             ],
             [
              0.6666666666666666,
              "#ed7953"
             ],
             [
              0.7777777777777778,
              "#fb9f3a"
             ],
             [
              0.8888888888888888,
              "#fdca26"
             ],
             [
              1,
              "#f0f921"
             ]
            ],
            "type": "histogram2d"
           }
          ],
          "histogram2dcontour": [
           {
            "colorbar": {
             "outlinewidth": 0,
             "ticks": ""
            },
            "colorscale": [
             [
              0,
              "#0d0887"
             ],
             [
              0.1111111111111111,
              "#46039f"
             ],
             [
              0.2222222222222222,
              "#7201a8"
             ],
             [
              0.3333333333333333,
              "#9c179e"
             ],
             [
              0.4444444444444444,
              "#bd3786"
             ],
             [
              0.5555555555555556,
              "#d8576b"
             ],
             [
              0.6666666666666666,
              "#ed7953"
             ],
             [
              0.7777777777777778,
              "#fb9f3a"
             ],
             [
              0.8888888888888888,
              "#fdca26"
             ],
             [
              1,
              "#f0f921"
             ]
            ],
            "type": "histogram2dcontour"
           }
          ],
          "mesh3d": [
           {
            "colorbar": {
             "outlinewidth": 0,
             "ticks": ""
            },
            "type": "mesh3d"
           }
          ],
          "parcoords": [
           {
            "line": {
             "colorbar": {
              "outlinewidth": 0,
              "ticks": ""
             }
            },
            "type": "parcoords"
           }
          ],
          "pie": [
           {
            "automargin": true,
            "type": "pie"
           }
          ],
          "scatter": [
           {
            "fillpattern": {
             "fillmode": "overlay",
             "size": 10,
             "solidity": 0.2
            },
            "type": "scatter"
           }
          ],
          "scatter3d": [
           {
            "line": {
             "colorbar": {
              "outlinewidth": 0,
              "ticks": ""
             }
            },
            "marker": {
             "colorbar": {
              "outlinewidth": 0,
              "ticks": ""
             }
            },
            "type": "scatter3d"
           }
          ],
          "scattercarpet": [
           {
            "marker": {
             "colorbar": {
              "outlinewidth": 0,
              "ticks": ""
             }
            },
            "type": "scattercarpet"
           }
          ],
          "scattergeo": [
           {
            "marker": {
             "colorbar": {
              "outlinewidth": 0,
              "ticks": ""
             }
            },
            "type": "scattergeo"
           }
          ],
          "scattergl": [
           {
            "marker": {
             "colorbar": {
              "outlinewidth": 0,
              "ticks": ""
             }
            },
            "type": "scattergl"
           }
          ],
          "scattermapbox": [
           {
            "marker": {
             "colorbar": {
              "outlinewidth": 0,
              "ticks": ""
             }
            },
            "type": "scattermapbox"
           }
          ],
          "scatterpolar": [
           {
            "marker": {
             "colorbar": {
              "outlinewidth": 0,
              "ticks": ""
             }
            },
            "type": "scatterpolar"
           }
          ],
          "scatterpolargl": [
           {
            "marker": {
             "colorbar": {
              "outlinewidth": 0,
              "ticks": ""
             }
            },
            "type": "scatterpolargl"
           }
          ],
          "scatterternary": [
           {
            "marker": {
             "colorbar": {
              "outlinewidth": 0,
              "ticks": ""
             }
            },
            "type": "scatterternary"
           }
          ],
          "surface": [
           {
            "colorbar": {
             "outlinewidth": 0,
             "ticks": ""
            },
            "colorscale": [
             [
              0,
              "#0d0887"
             ],
             [
              0.1111111111111111,
              "#46039f"
             ],
             [
              0.2222222222222222,
              "#7201a8"
             ],
             [
              0.3333333333333333,
              "#9c179e"
             ],
             [
              0.4444444444444444,
              "#bd3786"
             ],
             [
              0.5555555555555556,
              "#d8576b"
             ],
             [
              0.6666666666666666,
              "#ed7953"
             ],
             [
              0.7777777777777778,
              "#fb9f3a"
             ],
             [
              0.8888888888888888,
              "#fdca26"
             ],
             [
              1,
              "#f0f921"
             ]
            ],
            "type": "surface"
           }
          ],
          "table": [
           {
            "cells": {
             "fill": {
              "color": "#EBF0F8"
             },
             "line": {
              "color": "white"
             }
            },
            "header": {
             "fill": {
              "color": "#C8D4E3"
             },
             "line": {
              "color": "white"
             }
            },
            "type": "table"
           }
          ]
         },
         "layout": {
          "annotationdefaults": {
           "arrowcolor": "#2a3f5f",
           "arrowhead": 0,
           "arrowwidth": 1
          },
          "autotypenumbers": "strict",
          "coloraxis": {
           "colorbar": {
            "outlinewidth": 0,
            "ticks": ""
           }
          },
          "colorscale": {
           "diverging": [
            [
             0,
             "#8e0152"
            ],
            [
             0.1,
             "#c51b7d"
            ],
            [
             0.2,
             "#de77ae"
            ],
            [
             0.3,
             "#f1b6da"
            ],
            [
             0.4,
             "#fde0ef"
            ],
            [
             0.5,
             "#f7f7f7"
            ],
            [
             0.6,
             "#e6f5d0"
            ],
            [
             0.7,
             "#b8e186"
            ],
            [
             0.8,
             "#7fbc41"
            ],
            [
             0.9,
             "#4d9221"
            ],
            [
             1,
             "#276419"
            ]
           ],
           "sequential": [
            [
             0,
             "#0d0887"
            ],
            [
             0.1111111111111111,
             "#46039f"
            ],
            [
             0.2222222222222222,
             "#7201a8"
            ],
            [
             0.3333333333333333,
             "#9c179e"
            ],
            [
             0.4444444444444444,
             "#bd3786"
            ],
            [
             0.5555555555555556,
             "#d8576b"
            ],
            [
             0.6666666666666666,
             "#ed7953"
            ],
            [
             0.7777777777777778,
             "#fb9f3a"
            ],
            [
             0.8888888888888888,
             "#fdca26"
            ],
            [
             1,
             "#f0f921"
            ]
           ],
           "sequentialminus": [
            [
             0,
             "#0d0887"
            ],
            [
             0.1111111111111111,
             "#46039f"
            ],
            [
             0.2222222222222222,
             "#7201a8"
            ],
            [
             0.3333333333333333,
             "#9c179e"
            ],
            [
             0.4444444444444444,
             "#bd3786"
            ],
            [
             0.5555555555555556,
             "#d8576b"
            ],
            [
             0.6666666666666666,
             "#ed7953"
            ],
            [
             0.7777777777777778,
             "#fb9f3a"
            ],
            [
             0.8888888888888888,
             "#fdca26"
            ],
            [
             1,
             "#f0f921"
            ]
           ]
          },
          "colorway": [
           "#636efa",
           "#EF553B",
           "#00cc96",
           "#ab63fa",
           "#FFA15A",
           "#19d3f3",
           "#FF6692",
           "#B6E880",
           "#FF97FF",
           "#FECB52"
          ],
          "font": {
           "color": "#2a3f5f"
          },
          "geo": {
           "bgcolor": "white",
           "lakecolor": "white",
           "landcolor": "#E5ECF6",
           "showlakes": true,
           "showland": true,
           "subunitcolor": "white"
          },
          "hoverlabel": {
           "align": "left"
          },
          "hovermode": "closest",
          "mapbox": {
           "style": "light"
          },
          "paper_bgcolor": "white",
          "plot_bgcolor": "#E5ECF6",
          "polar": {
           "angularaxis": {
            "gridcolor": "white",
            "linecolor": "white",
            "ticks": ""
           },
           "bgcolor": "#E5ECF6",
           "radialaxis": {
            "gridcolor": "white",
            "linecolor": "white",
            "ticks": ""
           }
          },
          "scene": {
           "xaxis": {
            "backgroundcolor": "#E5ECF6",
            "gridcolor": "white",
            "gridwidth": 2,
            "linecolor": "white",
            "showbackground": true,
            "ticks": "",
            "zerolinecolor": "white"
           },
           "yaxis": {
            "backgroundcolor": "#E5ECF6",
            "gridcolor": "white",
            "gridwidth": 2,
            "linecolor": "white",
            "showbackground": true,
            "ticks": "",
            "zerolinecolor": "white"
           },
           "zaxis": {
            "backgroundcolor": "#E5ECF6",
            "gridcolor": "white",
            "gridwidth": 2,
            "linecolor": "white",
            "showbackground": true,
            "ticks": "",
            "zerolinecolor": "white"
           }
          },
          "shapedefaults": {
           "line": {
            "color": "#2a3f5f"
           }
          },
          "ternary": {
           "aaxis": {
            "gridcolor": "white",
            "linecolor": "white",
            "ticks": ""
           },
           "baxis": {
            "gridcolor": "white",
            "linecolor": "white",
            "ticks": ""
           },
           "bgcolor": "#E5ECF6",
           "caxis": {
            "gridcolor": "white",
            "linecolor": "white",
            "ticks": ""
           }
          },
          "title": {
           "x": 0.05
          },
          "xaxis": {
           "automargin": true,
           "gridcolor": "white",
           "linecolor": "white",
           "ticks": "",
           "title": {
            "standoff": 15
           },
           "zerolinecolor": "white",
           "zerolinewidth": 2
          },
          "yaxis": {
           "automargin": true,
           "gridcolor": "white",
           "linecolor": "white",
           "ticks": "",
           "title": {
            "standoff": 15
           },
           "zerolinecolor": "white",
           "zerolinewidth": 2
          }
         }
        },
        "title": {
         "text": "Trend in Trips by Hour of Day"
        },
        "xaxis": {
         "gridcolor": "rgb(255, 255, 255)",
         "gridwidth": 2,
         "ticklen": 5,
         "title": {
          "text": "Hour"
         },
         "zerolinewidth": 1
        },
        "yaxis": {
         "gridcolor": "rgb(255, 255, 255)",
         "gridwidth": 2,
         "ticklen": 5,
         "title": {
          "text": "Count"
         },
         "zerolinewidth": 1
        }
       }
      },
      "text/html": [
       "<div>                            <div id=\"fbce3257-a931-4337-be6a-a11ad05632d5\" class=\"plotly-graph-div\" style=\"height:525px; width:100%;\"></div>            <script type=\"text/javascript\">                require([\"plotly\"], function(Plotly) {                    window.PLOTLYENV=window.PLOTLYENV || {};                                    if (document.getElementById(\"fbce3257-a931-4337-be6a-a11ad05632d5\")) {                    Plotly.newPlot(                        \"fbce3257-a931-4337-be6a-a11ad05632d5\",                        [{\"marker\":{\"color\":\"red\",\"line\":{\"color\":\"black\",\"width\":2},\"size\":9},\"mode\":\"markers+lines\",\"x\":[0,1,2,3,4,5,6,7,8,9,10,11,12,13,14,15,16,17,18,19,20,21,22,23],\"y\":[18949,14062,10510,7620,5608,4743,9972,17670,21951,22910,21771,22656,23904,23631,24642,23287,19935,23880,29178,30434,28330,27699,26946,24056],\"type\":\"scatter\"}],                        {\"paper_bgcolor\":\"rgb(243,243,243)\",\"plot_bgcolor\":\"rgb(243,243,243)\",\"template\":{\"data\":{\"barpolar\":[{\"marker\":{\"line\":{\"color\":\"#E5ECF6\",\"width\":0.5},\"pattern\":{\"fillmode\":\"overlay\",\"size\":10,\"solidity\":0.2}},\"type\":\"barpolar\"}],\"bar\":[{\"error_x\":{\"color\":\"#2a3f5f\"},\"error_y\":{\"color\":\"#2a3f5f\"},\"marker\":{\"line\":{\"color\":\"#E5ECF6\",\"width\":0.5},\"pattern\":{\"fillmode\":\"overlay\",\"size\":10,\"solidity\":0.2}},\"type\":\"bar\"}],\"carpet\":[{\"aaxis\":{\"endlinecolor\":\"#2a3f5f\",\"gridcolor\":\"white\",\"linecolor\":\"white\",\"minorgridcolor\":\"white\",\"startlinecolor\":\"#2a3f5f\"},\"baxis\":{\"endlinecolor\":\"#2a3f5f\",\"gridcolor\":\"white\",\"linecolor\":\"white\",\"minorgridcolor\":\"white\",\"startlinecolor\":\"#2a3f5f\"},\"type\":\"carpet\"}],\"choropleth\":[{\"colorbar\":{\"outlinewidth\":0,\"ticks\":\"\"},\"type\":\"choropleth\"}],\"contourcarpet\":[{\"colorbar\":{\"outlinewidth\":0,\"ticks\":\"\"},\"type\":\"contourcarpet\"}],\"contour\":[{\"colorbar\":{\"outlinewidth\":0,\"ticks\":\"\"},\"colorscale\":[[0.0,\"#0d0887\"],[0.1111111111111111,\"#46039f\"],[0.2222222222222222,\"#7201a8\"],[0.3333333333333333,\"#9c179e\"],[0.4444444444444444,\"#bd3786\"],[0.5555555555555556,\"#d8576b\"],[0.6666666666666666,\"#ed7953\"],[0.7777777777777778,\"#fb9f3a\"],[0.8888888888888888,\"#fdca26\"],[1.0,\"#f0f921\"]],\"type\":\"contour\"}],\"heatmapgl\":[{\"colorbar\":{\"outlinewidth\":0,\"ticks\":\"\"},\"colorscale\":[[0.0,\"#0d0887\"],[0.1111111111111111,\"#46039f\"],[0.2222222222222222,\"#7201a8\"],[0.3333333333333333,\"#9c179e\"],[0.4444444444444444,\"#bd3786\"],[0.5555555555555556,\"#d8576b\"],[0.6666666666666666,\"#ed7953\"],[0.7777777777777778,\"#fb9f3a\"],[0.8888888888888888,\"#fdca26\"],[1.0,\"#f0f921\"]],\"type\":\"heatmapgl\"}],\"heatmap\":[{\"colorbar\":{\"outlinewidth\":0,\"ticks\":\"\"},\"colorscale\":[[0.0,\"#0d0887\"],[0.1111111111111111,\"#46039f\"],[0.2222222222222222,\"#7201a8\"],[0.3333333333333333,\"#9c179e\"],[0.4444444444444444,\"#bd3786\"],[0.5555555555555556,\"#d8576b\"],[0.6666666666666666,\"#ed7953\"],[0.7777777777777778,\"#fb9f3a\"],[0.8888888888888888,\"#fdca26\"],[1.0,\"#f0f921\"]],\"type\":\"heatmap\"}],\"histogram2dcontour\":[{\"colorbar\":{\"outlinewidth\":0,\"ticks\":\"\"},\"colorscale\":[[0.0,\"#0d0887\"],[0.1111111111111111,\"#46039f\"],[0.2222222222222222,\"#7201a8\"],[0.3333333333333333,\"#9c179e\"],[0.4444444444444444,\"#bd3786\"],[0.5555555555555556,\"#d8576b\"],[0.6666666666666666,\"#ed7953\"],[0.7777777777777778,\"#fb9f3a\"],[0.8888888888888888,\"#fdca26\"],[1.0,\"#f0f921\"]],\"type\":\"histogram2dcontour\"}],\"histogram2d\":[{\"colorbar\":{\"outlinewidth\":0,\"ticks\":\"\"},\"colorscale\":[[0.0,\"#0d0887\"],[0.1111111111111111,\"#46039f\"],[0.2222222222222222,\"#7201a8\"],[0.3333333333333333,\"#9c179e\"],[0.4444444444444444,\"#bd3786\"],[0.5555555555555556,\"#d8576b\"],[0.6666666666666666,\"#ed7953\"],[0.7777777777777778,\"#fb9f3a\"],[0.8888888888888888,\"#fdca26\"],[1.0,\"#f0f921\"]],\"type\":\"histogram2d\"}],\"histogram\":[{\"marker\":{\"pattern\":{\"fillmode\":\"overlay\",\"size\":10,\"solidity\":0.2}},\"type\":\"histogram\"}],\"mesh3d\":[{\"colorbar\":{\"outlinewidth\":0,\"ticks\":\"\"},\"type\":\"mesh3d\"}],\"parcoords\":[{\"line\":{\"colorbar\":{\"outlinewidth\":0,\"ticks\":\"\"}},\"type\":\"parcoords\"}],\"pie\":[{\"automargin\":true,\"type\":\"pie\"}],\"scatter3d\":[{\"line\":{\"colorbar\":{\"outlinewidth\":0,\"ticks\":\"\"}},\"marker\":{\"colorbar\":{\"outlinewidth\":0,\"ticks\":\"\"}},\"type\":\"scatter3d\"}],\"scattercarpet\":[{\"marker\":{\"colorbar\":{\"outlinewidth\":0,\"ticks\":\"\"}},\"type\":\"scattercarpet\"}],\"scattergeo\":[{\"marker\":{\"colorbar\":{\"outlinewidth\":0,\"ticks\":\"\"}},\"type\":\"scattergeo\"}],\"scattergl\":[{\"marker\":{\"colorbar\":{\"outlinewidth\":0,\"ticks\":\"\"}},\"type\":\"scattergl\"}],\"scattermapbox\":[{\"marker\":{\"colorbar\":{\"outlinewidth\":0,\"ticks\":\"\"}},\"type\":\"scattermapbox\"}],\"scatterpolargl\":[{\"marker\":{\"colorbar\":{\"outlinewidth\":0,\"ticks\":\"\"}},\"type\":\"scatterpolargl\"}],\"scatterpolar\":[{\"marker\":{\"colorbar\":{\"outlinewidth\":0,\"ticks\":\"\"}},\"type\":\"scatterpolar\"}],\"scatter\":[{\"fillpattern\":{\"fillmode\":\"overlay\",\"size\":10,\"solidity\":0.2},\"type\":\"scatter\"}],\"scatterternary\":[{\"marker\":{\"colorbar\":{\"outlinewidth\":0,\"ticks\":\"\"}},\"type\":\"scatterternary\"}],\"surface\":[{\"colorbar\":{\"outlinewidth\":0,\"ticks\":\"\"},\"colorscale\":[[0.0,\"#0d0887\"],[0.1111111111111111,\"#46039f\"],[0.2222222222222222,\"#7201a8\"],[0.3333333333333333,\"#9c179e\"],[0.4444444444444444,\"#bd3786\"],[0.5555555555555556,\"#d8576b\"],[0.6666666666666666,\"#ed7953\"],[0.7777777777777778,\"#fb9f3a\"],[0.8888888888888888,\"#fdca26\"],[1.0,\"#f0f921\"]],\"type\":\"surface\"}],\"table\":[{\"cells\":{\"fill\":{\"color\":\"#EBF0F8\"},\"line\":{\"color\":\"white\"}},\"header\":{\"fill\":{\"color\":\"#C8D4E3\"},\"line\":{\"color\":\"white\"}},\"type\":\"table\"}]},\"layout\":{\"annotationdefaults\":{\"arrowcolor\":\"#2a3f5f\",\"arrowhead\":0,\"arrowwidth\":1},\"autotypenumbers\":\"strict\",\"coloraxis\":{\"colorbar\":{\"outlinewidth\":0,\"ticks\":\"\"}},\"colorscale\":{\"diverging\":[[0,\"#8e0152\"],[0.1,\"#c51b7d\"],[0.2,\"#de77ae\"],[0.3,\"#f1b6da\"],[0.4,\"#fde0ef\"],[0.5,\"#f7f7f7\"],[0.6,\"#e6f5d0\"],[0.7,\"#b8e186\"],[0.8,\"#7fbc41\"],[0.9,\"#4d9221\"],[1,\"#276419\"]],\"sequential\":[[0.0,\"#0d0887\"],[0.1111111111111111,\"#46039f\"],[0.2222222222222222,\"#7201a8\"],[0.3333333333333333,\"#9c179e\"],[0.4444444444444444,\"#bd3786\"],[0.5555555555555556,\"#d8576b\"],[0.6666666666666666,\"#ed7953\"],[0.7777777777777778,\"#fb9f3a\"],[0.8888888888888888,\"#fdca26\"],[1.0,\"#f0f921\"]],\"sequentialminus\":[[0.0,\"#0d0887\"],[0.1111111111111111,\"#46039f\"],[0.2222222222222222,\"#7201a8\"],[0.3333333333333333,\"#9c179e\"],[0.4444444444444444,\"#bd3786\"],[0.5555555555555556,\"#d8576b\"],[0.6666666666666666,\"#ed7953\"],[0.7777777777777778,\"#fb9f3a\"],[0.8888888888888888,\"#fdca26\"],[1.0,\"#f0f921\"]]},\"colorway\":[\"#636efa\",\"#EF553B\",\"#00cc96\",\"#ab63fa\",\"#FFA15A\",\"#19d3f3\",\"#FF6692\",\"#B6E880\",\"#FF97FF\",\"#FECB52\"],\"font\":{\"color\":\"#2a3f5f\"},\"geo\":{\"bgcolor\":\"white\",\"lakecolor\":\"white\",\"landcolor\":\"#E5ECF6\",\"showlakes\":true,\"showland\":true,\"subunitcolor\":\"white\"},\"hoverlabel\":{\"align\":\"left\"},\"hovermode\":\"closest\",\"mapbox\":{\"style\":\"light\"},\"paper_bgcolor\":\"white\",\"plot_bgcolor\":\"#E5ECF6\",\"polar\":{\"angularaxis\":{\"gridcolor\":\"white\",\"linecolor\":\"white\",\"ticks\":\"\"},\"bgcolor\":\"#E5ECF6\",\"radialaxis\":{\"gridcolor\":\"white\",\"linecolor\":\"white\",\"ticks\":\"\"}},\"scene\":{\"xaxis\":{\"backgroundcolor\":\"#E5ECF6\",\"gridcolor\":\"white\",\"gridwidth\":2,\"linecolor\":\"white\",\"showbackground\":true,\"ticks\":\"\",\"zerolinecolor\":\"white\"},\"yaxis\":{\"backgroundcolor\":\"#E5ECF6\",\"gridcolor\":\"white\",\"gridwidth\":2,\"linecolor\":\"white\",\"showbackground\":true,\"ticks\":\"\",\"zerolinecolor\":\"white\"},\"zaxis\":{\"backgroundcolor\":\"#E5ECF6\",\"gridcolor\":\"white\",\"gridwidth\":2,\"linecolor\":\"white\",\"showbackground\":true,\"ticks\":\"\",\"zerolinecolor\":\"white\"}},\"shapedefaults\":{\"line\":{\"color\":\"#2a3f5f\"}},\"ternary\":{\"aaxis\":{\"gridcolor\":\"white\",\"linecolor\":\"white\",\"ticks\":\"\"},\"baxis\":{\"gridcolor\":\"white\",\"linecolor\":\"white\",\"ticks\":\"\"},\"bgcolor\":\"#E5ECF6\",\"caxis\":{\"gridcolor\":\"white\",\"linecolor\":\"white\",\"ticks\":\"\"}},\"title\":{\"x\":0.05},\"xaxis\":{\"automargin\":true,\"gridcolor\":\"white\",\"linecolor\":\"white\",\"ticks\":\"\",\"title\":{\"standoff\":15},\"zerolinecolor\":\"white\",\"zerolinewidth\":2},\"yaxis\":{\"automargin\":true,\"gridcolor\":\"white\",\"linecolor\":\"white\",\"ticks\":\"\",\"title\":{\"standoff\":15},\"zerolinecolor\":\"white\",\"zerolinewidth\":2}}},\"title\":{\"text\":\"Trend in Trips by Hour of Day\"},\"xaxis\":{\"gridcolor\":\"rgb(255, 255, 255)\",\"gridwidth\":2,\"ticklen\":5,\"title\":{\"text\":\"Hour\"},\"zerolinewidth\":1},\"yaxis\":{\"gridcolor\":\"rgb(255, 255, 255)\",\"gridwidth\":2,\"ticklen\":5,\"title\":{\"text\":\"Count\"},\"zerolinewidth\":1}},                        {\"responsive\": true}                    ).then(function(){\n",
       "                            \n",
       "var gd = document.getElementById('fbce3257-a931-4337-be6a-a11ad05632d5');\n",
       "var x = new MutationObserver(function (mutations, observer) {{\n",
       "        var display = window.getComputedStyle(gd).display;\n",
       "        if (!display || display === 'none') {{\n",
       "            console.log([gd, 'removed!']);\n",
       "            Plotly.purge(gd);\n",
       "            observer.disconnect();\n",
       "        }}\n",
       "}});\n",
       "\n",
       "// Listen for the removal of the full notebook cells\n",
       "var notebookContainer = gd.closest('#notebook-container');\n",
       "if (notebookContainer) {{\n",
       "    x.observe(notebookContainer, {childList: true});\n",
       "}}\n",
       "\n",
       "// Listen for the clearing of the current output cell\n",
       "var outputEl = gd.closest('.output');\n",
       "if (outputEl) {{\n",
       "    x.observe(outputEl, {childList: true});\n",
       "}}\n",
       "\n",
       "                        })                };                });            </script>        </div>"
      ]
     },
     "metadata": {},
     "output_type": "display_data"
    }
   ],
   "source": [
    "trips_hr = nyc_data[\"hour\"].value_counts().reset_index()\n",
    "trips_hr.columns = [\"hour\",\"count\"]\n",
    "trips_hr = trips_hr.sort_values(by = \"hour\",ascending = True)\n",
    "\n",
    "trace = go.Scatter(x = trips_hr[\"hour\"],y = trips_hr[\"count\"],\n",
    "                   mode = \"markers+lines\",\n",
    "                  marker = dict(color = \"red\",size = 9,\n",
    "                                line = dict(color = \"black\",width =2)))\n",
    "#layout\n",
    "layout = go.Layout(dict(title = \"Trend in Trips by Hour of Day\",\n",
    "                        plot_bgcolor  = \"rgb(243,243,243)\",\n",
    "                        paper_bgcolor = \"rgb(243,243,243)\",\n",
    "                        xaxis = dict(gridcolor = 'rgb(255, 255, 255)',title = \"Hour\",\n",
    "                                     zerolinewidth=1,ticklen=5,gridwidth=2),\n",
    "                        yaxis = dict(gridcolor = 'rgb(255, 255, 255)',title = \"Count\",\n",
    "                                     zerolinewidth=1,ticklen=5,gridwidth=2),\n",
    "                       )\n",
    "                  )\n",
    "\n",
    "fig = go.Figure(data = [trace],layout = layout)\n",
    "py.iplot(fig)"
   ]
  },
  {
   "cell_type": "code",
   "execution_count": 9,
   "id": "1b60ce66",
   "metadata": {},
   "outputs": [],
   "source": [
    "#replace 0's in coordinates with null values\n",
    "coord = ['pickup_longitude','pickup_latitude', \n",
    "         'dropoff_longitude', 'dropoff_latitude']\n",
    "\n",
    "for i in coord :\n",
    "    nyc_data[i] = nyc_data[i].replace(0,np.nan)\n",
    "    nyc_data    = nyc_data[nyc_data[i].notnull()]\n"
   ]
  },
  {
   "cell_type": "code",
   "execution_count": 10,
   "id": "bd45ec07",
   "metadata": {},
   "outputs": [],
   "source": [
    "# Data Cleaning \n",
    "# ● Handling the missing values\n",
    "# In the analysis phase we notice there is a few missing value, therefore we decide to eliminate them all. "
   ]
  },
  {
   "cell_type": "code",
   "execution_count": 11,
   "id": "ea92962c",
   "metadata": {},
   "outputs": [
    {
     "data": {
      "text/plain": [
       "True"
      ]
     },
     "execution_count": 11,
     "metadata": {},
     "output_type": "execute_result"
    }
   ],
   "source": [
    "#Find wether there is index with null vlaue\n",
    "pd.isnull(np.nan) "
   ]
  },
  {
   "cell_type": "code",
   "execution_count": 12,
   "id": "0ee27799",
   "metadata": {},
   "outputs": [
    {
     "name": "stdout",
     "output_type": "stream",
     "text": [
      "                                key  fare_amount     pickup_datetime  \\\n",
      "286276  2015-06-30 23:38:21.0000003         26.5 2015-06-30 23:38:21   \n",
      "240182  2015-06-30 23:34:05.0000002          7.5 2015-06-30 23:34:05   \n",
      "182743  2015-06-30 23:28:55.0000007          8.0 2015-06-30 23:28:55   \n",
      "362807  2015-06-30 23:26:21.0000001         16.0 2015-06-30 23:26:21   \n",
      "350061  2015-06-30 23:22:46.0000006         10.0 2015-06-30 23:22:46   \n",
      "...                             ...          ...                 ...   \n",
      "76195   2009-01-01 01:21:54.0000002          4.9 2009-01-01 01:21:54   \n",
      "124445  2009-01-01 00:47:26.0000007          5.4 2009-01-01 00:47:26   \n",
      "82469   2009-01-01 00:41:00.0000003          6.2 2009-01-01 00:41:00   \n",
      "124750  2009-01-01 00:35:03.0000001         16.5 2009-01-01 00:35:03   \n",
      "297860  2009-01-01 00:31:32.0000001         11.8 2009-01-01 00:31:32   \n",
      "\n",
      "        pickup_longitude  pickup_latitude  dropoff_longitude  \\\n",
      "286276        -74.008385        40.711571         -73.884071   \n",
      "240182        -73.996719        40.742764         -73.991905   \n",
      "182743        -73.984734        40.748158         -73.983185   \n",
      "362807        -73.979385        40.682659         -73.925461   \n",
      "350061        -73.984718        40.754299         -73.966904   \n",
      "...                  ...              ...                ...   \n",
      "76195         -73.951810        40.714897         -73.962162   \n",
      "124445        -73.987324        40.749571         -73.976034   \n",
      "82469         -73.994202        40.751008         -73.985817   \n",
      "124750        -73.991938        40.738414         -74.003499   \n",
      "297860        -73.955075        40.768991         -73.973230   \n",
      "\n",
      "        dropoff_latitude  passenger_count  year  month month_name  month_year  \\\n",
      "286276         40.737385                5  2015      6        JUN  2015 - JUN   \n",
      "240182         40.725853                1  2015      6        JUN  2015 - JUN   \n",
      "182743         40.764431                1  2015      6        JUN  2015 - JUN   \n",
      "362807         40.669498                2  2015      6        JUN  2015 - JUN   \n",
      "350061         40.772480                1  2015      6        JUN  2015 - JUN   \n",
      "...                  ...              ...   ...    ...        ...         ...   \n",
      "76195          40.709354                4  2009      1        JAN  2009 - JAN   \n",
      "124445         40.741951                1  2009      1        JAN  2009 - JAN   \n",
      "82469          40.750577                2  2009      1        JAN  2009 - JAN   \n",
      "124750         40.683326                1  2009      1        JAN  2009 - JAN   \n",
      "297860         40.747979                1  2009      1        JAN  2009 - JAN   \n",
      "\n",
      "        day  hour  trip_distance_km  log_trip_ditance  \n",
      "286276   30    23         10.865387          2.385582  \n",
      "240182   30    23          1.924224          0.654523  \n",
      "182743   30    23          1.814796          0.595973  \n",
      "362807   30    23          4.778674          1.564163  \n",
      "350061   30    23          2.518330          0.923596  \n",
      "...     ...   ...               ...               ...  \n",
      "76195     1     1          1.068598          0.066348  \n",
      "124445    1     0          1.274181          0.242304  \n",
      "82469     1     0          0.708168         -0.345073  \n",
      "124750    1     0          6.204476          1.825271  \n",
      "297860    1     0          2.793214          1.027193  \n",
      "\n",
      "[484344 rows x 16 columns]\n"
     ]
    }
   ],
   "source": [
    "# Delete the index with null value\n",
    "nyc_data = nyc_data.dropna()\n",
    "print(nyc_data)"
   ]
  },
  {
   "cell_type": "code",
   "execution_count": 13,
   "id": "d68a42bd",
   "metadata": {},
   "outputs": [],
   "source": [
    "#a dictionary with NYC coordinates from test data that will be used in deleting outliers\n",
    "coordinates = {'min_long': min(nyc_data.pickup_longitude.min(), nyc_data.dropoff_longitude.min()),\n",
    "              'max_long': max(nyc_data.pickup_longitude.max(), nyc_data.dropoff_longitude.max()),\n",
    "              'min_lat': min(nyc_data.pickup_latitude.min(), nyc_data.dropoff_latitude.min()),\n",
    "              'max_lat' : min(nyc_data.pickup_latitude.max(), nyc_data.dropoff_latitude.max()),}"
   ]
  },
  {
   "cell_type": "code",
   "execution_count": 14,
   "id": "955081b8",
   "metadata": {},
   "outputs": [],
   "source": [
    "#● Handling the outliers\n",
    "#We did notice in the previous section that our data has too much outliers (not realistic data) which will affect our model negatively"
   ]
  },
  {
   "cell_type": "code",
   "execution_count": 15,
   "id": "3e8dd8a6",
   "metadata": {},
   "outputs": [],
   "source": [
    "#drop observations with passengers greater than 6 and equals 0\n",
    "nyc_data = nyc_data[(nyc_data[\"passenger_count\"] > 0 ) &\n",
    "                    (nyc_data[\"passenger_count\"] < 7) ]"
   ]
  },
  {
   "cell_type": "code",
   "execution_count": 16,
   "id": "2828e184",
   "metadata": {},
   "outputs": [],
   "source": [
    "#drop observations with fareamount  less than 0 and  greater than 99.99% percentile value.\n",
    "nyc_data = nyc_data[ (nyc_data[\"fare_amount\"] > 0 ) &\n",
    "                     (nyc_data[\"fare_amount\"]  <  \n",
    "                      nyc_data[\"fare_amount\"].quantile(.9999))]"
   ]
  },
  {
   "cell_type": "code",
   "execution_count": 17,
   "id": "1c847b30",
   "metadata": {},
   "outputs": [],
   "source": [
    "#drop outlier observations in data\n",
    "coords = ['pickup_longitude','pickup_latitude', \n",
    "          'dropoff_longitude', 'dropoff_latitude']\n",
    "for i in coord  : \n",
    "    nyc_data = nyc_data[(nyc_data[i]   > nyc_data[i].quantile(.001)) & \n",
    "                        (nyc_data[i] < nyc_data[i].quantile(.999))]\n"
   ]
  },
  {
   "cell_type": "code",
   "execution_count": 18,
   "id": "6a0bba9a",
   "metadata": {},
   "outputs": [
    {
     "data": {
      "text/html": [
       "<div>\n",
       "<style scoped>\n",
       "    .dataframe tbody tr th:only-of-type {\n",
       "        vertical-align: middle;\n",
       "    }\n",
       "\n",
       "    .dataframe tbody tr th {\n",
       "        vertical-align: top;\n",
       "    }\n",
       "\n",
       "    .dataframe thead th {\n",
       "        text-align: right;\n",
       "    }\n",
       "</style>\n",
       "<table border=\"1\" class=\"dataframe\">\n",
       "  <thead>\n",
       "    <tr style=\"text-align: right;\">\n",
       "      <th></th>\n",
       "      <th>key</th>\n",
       "      <th>fare_amount</th>\n",
       "      <th>pickup_datetime</th>\n",
       "      <th>pickup_longitude</th>\n",
       "      <th>pickup_latitude</th>\n",
       "      <th>dropoff_longitude</th>\n",
       "      <th>dropoff_latitude</th>\n",
       "      <th>passenger_count</th>\n",
       "      <th>year</th>\n",
       "      <th>month</th>\n",
       "      <th>month_name</th>\n",
       "      <th>month_year</th>\n",
       "      <th>day</th>\n",
       "      <th>hour</th>\n",
       "      <th>trip_distance_km</th>\n",
       "      <th>log_trip_ditance</th>\n",
       "    </tr>\n",
       "  </thead>\n",
       "  <tbody>\n",
       "    <tr>\n",
       "      <th>286276</th>\n",
       "      <td>2015-06-30 23:38:21.0000003</td>\n",
       "      <td>26.5</td>\n",
       "      <td>2015-06-30 23:38:21</td>\n",
       "      <td>-74.008385</td>\n",
       "      <td>40.711571</td>\n",
       "      <td>-73.884071</td>\n",
       "      <td>40.737385</td>\n",
       "      <td>5</td>\n",
       "      <td>2015</td>\n",
       "      <td>6</td>\n",
       "      <td>JUN</td>\n",
       "      <td>2015 - JUN</td>\n",
       "      <td>30</td>\n",
       "      <td>23</td>\n",
       "      <td>10.865387</td>\n",
       "      <td>2.385582</td>\n",
       "    </tr>\n",
       "    <tr>\n",
       "      <th>240182</th>\n",
       "      <td>2015-06-30 23:34:05.0000002</td>\n",
       "      <td>7.5</td>\n",
       "      <td>2015-06-30 23:34:05</td>\n",
       "      <td>-73.996719</td>\n",
       "      <td>40.742764</td>\n",
       "      <td>-73.991905</td>\n",
       "      <td>40.725853</td>\n",
       "      <td>1</td>\n",
       "      <td>2015</td>\n",
       "      <td>6</td>\n",
       "      <td>JUN</td>\n",
       "      <td>2015 - JUN</td>\n",
       "      <td>30</td>\n",
       "      <td>23</td>\n",
       "      <td>1.924224</td>\n",
       "      <td>0.654523</td>\n",
       "    </tr>\n",
       "    <tr>\n",
       "      <th>182743</th>\n",
       "      <td>2015-06-30 23:28:55.0000007</td>\n",
       "      <td>8.0</td>\n",
       "      <td>2015-06-30 23:28:55</td>\n",
       "      <td>-73.984734</td>\n",
       "      <td>40.748158</td>\n",
       "      <td>-73.983185</td>\n",
       "      <td>40.764431</td>\n",
       "      <td>1</td>\n",
       "      <td>2015</td>\n",
       "      <td>6</td>\n",
       "      <td>JUN</td>\n",
       "      <td>2015 - JUN</td>\n",
       "      <td>30</td>\n",
       "      <td>23</td>\n",
       "      <td>1.814796</td>\n",
       "      <td>0.595973</td>\n",
       "    </tr>\n",
       "    <tr>\n",
       "      <th>362807</th>\n",
       "      <td>2015-06-30 23:26:21.0000001</td>\n",
       "      <td>16.0</td>\n",
       "      <td>2015-06-30 23:26:21</td>\n",
       "      <td>-73.979385</td>\n",
       "      <td>40.682659</td>\n",
       "      <td>-73.925461</td>\n",
       "      <td>40.669498</td>\n",
       "      <td>2</td>\n",
       "      <td>2015</td>\n",
       "      <td>6</td>\n",
       "      <td>JUN</td>\n",
       "      <td>2015 - JUN</td>\n",
       "      <td>30</td>\n",
       "      <td>23</td>\n",
       "      <td>4.778674</td>\n",
       "      <td>1.564163</td>\n",
       "    </tr>\n",
       "    <tr>\n",
       "      <th>350061</th>\n",
       "      <td>2015-06-30 23:22:46.0000006</td>\n",
       "      <td>10.0</td>\n",
       "      <td>2015-06-30 23:22:46</td>\n",
       "      <td>-73.984718</td>\n",
       "      <td>40.754299</td>\n",
       "      <td>-73.966904</td>\n",
       "      <td>40.772480</td>\n",
       "      <td>1</td>\n",
       "      <td>2015</td>\n",
       "      <td>6</td>\n",
       "      <td>JUN</td>\n",
       "      <td>2015 - JUN</td>\n",
       "      <td>30</td>\n",
       "      <td>23</td>\n",
       "      <td>2.518330</td>\n",
       "      <td>0.923596</td>\n",
       "    </tr>\n",
       "  </tbody>\n",
       "</table>\n",
       "</div>"
      ],
      "text/plain": [
       "                                key  fare_amount     pickup_datetime  \\\n",
       "286276  2015-06-30 23:38:21.0000003         26.5 2015-06-30 23:38:21   \n",
       "240182  2015-06-30 23:34:05.0000002          7.5 2015-06-30 23:34:05   \n",
       "182743  2015-06-30 23:28:55.0000007          8.0 2015-06-30 23:28:55   \n",
       "362807  2015-06-30 23:26:21.0000001         16.0 2015-06-30 23:26:21   \n",
       "350061  2015-06-30 23:22:46.0000006         10.0 2015-06-30 23:22:46   \n",
       "\n",
       "        pickup_longitude  pickup_latitude  dropoff_longitude  \\\n",
       "286276        -74.008385        40.711571         -73.884071   \n",
       "240182        -73.996719        40.742764         -73.991905   \n",
       "182743        -73.984734        40.748158         -73.983185   \n",
       "362807        -73.979385        40.682659         -73.925461   \n",
       "350061        -73.984718        40.754299         -73.966904   \n",
       "\n",
       "        dropoff_latitude  passenger_count  year  month month_name  month_year  \\\n",
       "286276         40.737385                5  2015      6        JUN  2015 - JUN   \n",
       "240182         40.725853                1  2015      6        JUN  2015 - JUN   \n",
       "182743         40.764431                1  2015      6        JUN  2015 - JUN   \n",
       "362807         40.669498                2  2015      6        JUN  2015 - JUN   \n",
       "350061         40.772480                1  2015      6        JUN  2015 - JUN   \n",
       "\n",
       "        day  hour  trip_distance_km  log_trip_ditance  \n",
       "286276   30    23         10.865387          2.385582  \n",
       "240182   30    23          1.924224          0.654523  \n",
       "182743   30    23          1.814796          0.595973  \n",
       "362807   30    23          4.778674          1.564163  \n",
       "350061   30    23          2.518330          0.923596  "
      ]
     },
     "execution_count": 18,
     "metadata": {},
     "output_type": "execute_result"
    }
   ],
   "source": [
    "nyc_data.head()"
   ]
  },
  {
   "cell_type": "code",
   "execution_count": 19,
   "id": "b503a60e",
   "metadata": {},
   "outputs": [],
   "source": [
    "#● Generating new features (feature generation)\n",
    "#Extracting date and time\n",
    "#Using the date attribute which is not useful in this format we will transform 5 more attributes which are: Year, Month, Day, Day of The week, and hour."
   ]
  },
  {
   "cell_type": "code",
   "execution_count": 20,
   "id": "3fc4b5fb",
   "metadata": {},
   "outputs": [],
   "source": [
    "#conver to date format\n",
    "nyc_data[\"pickup_datetime\"] = nyc_data[\"pickup_datetime\"].astype(str).str.replace(\" UTC\",\"\")\n",
    "nyc_data[\"pickup_datetime\"] = pd.to_datetime(nyc_data[\"pickup_datetime\"],\n",
    "                                             format=\"%Y-%m-%d %H:%M:%S\")"
   ]
  },
  {
   "cell_type": "code",
   "execution_count": 21,
   "id": "e94aeb65",
   "metadata": {},
   "outputs": [],
   "source": [
    "#extract year\n",
    "nyc_data[\"year\"]  = pd.DatetimeIndex(nyc_data[\"pickup_datetime\"]).year\n",
    "#extract month\n",
    "nyc_data[\"month\"] = pd.DatetimeIndex(nyc_data[\"pickup_datetime\"]).month\n",
    "nyc_data[\"month_name\"] = nyc_data[\"month\"].map({1:\"JAN\",2:\"FEB\",3:\"MAR\",\n",
    "                                                4:\"APR\",5:\"MAY\",6:\"JUN\",\n",
    "                                                7:\"JUL\",8:\"AUG\",9:\"SEP\",\n",
    "                                                10:\"OCT\",11:\"NOV\",12:\"DEC\"\n",
    "                                               })\n",
    "#merge year month\n",
    "nyc_data[\"month_year\"] = nyc_data[\"year\"].astype(str) + \" - \" + nyc_data[\"month_name\"]\n",
    "#extract day \n",
    "nyc_data[\"day\"]        = nyc_data[\"pickup_datetime\"].dt.day\n",
    "#extract hour\n",
    "nyc_data[\"hour\"]        = nyc_data[\"pickup_datetime\"].dt.hour \n",
    "nyc_data = nyc_data.sort_values(by = \"pickup_datetime\",ascending = False)\n"
   ]
  },
  {
   "cell_type": "code",
   "execution_count": 22,
   "id": "223b9927",
   "metadata": {},
   "outputs": [],
   "source": [
    "#Airport pickup and dropoff\n",
    "#As mentionned earlier, NYC has 3 airports. We all now that taxis pick and drop passangers frequently from these kind of locations. So for each airport we will add 2 columnes: pick_up and drop_off.\n"
   ]
  },
  {
   "cell_type": "code",
   "execution_count": 23,
   "id": "8d4cfb8a",
   "metadata": {},
   "outputs": [],
   "source": [
    "#nyc_airports coordinates\n",
    "nyc_airports={'JFK':{'min_lng':-73.835,\n",
    "                     'min_lat':40.619,\n",
    "                     'max_lng':-73.740, \n",
    "                     'max_lat':40.665},\n",
    "              \n",
    "              'EWR':{'min_lng':-74.192,\n",
    "                     'min_lat':40.670, \n",
    "                     'max_lng':-74.153, \n",
    "                     'max_lat':40.708},\n",
    "              \n",
    "        'LaGuardia':{'min_lng':-73.889, \n",
    "                     'min_lat':40.766, \n",
    "                     'max_lng':-73.855, \n",
    "                     'max_lat':40.793}\n",
    "                }\n"
   ]
  },
  {
   "cell_type": "code",
   "execution_count": 24,
   "id": "e86893fe",
   "metadata": {},
   "outputs": [],
   "source": [
    "# a function to assign 1 if we have a pick up or drop off from an airport\n",
    "def Airport(latitude, longitude, airport_name):\n",
    "    if (latitude>=nyc_airports[airport_name]['min_lat'] and\n",
    "      latitude<=nyc_airports[airport_name]['max_lat'] and\n",
    "      longitude>=nyc_airports[airport_name]['min_lng'] and\n",
    "      longitude<=nyc_airports[airport_name]['max_lng']):\n",
    "        return 1\n",
    "    else:\n",
    "        return 0"
   ]
  },
  {
   "cell_type": "code",
   "execution_count": 25,
   "id": "30e452ba",
   "metadata": {},
   "outputs": [
    {
     "data": {
      "text/html": [
       "<div>\n",
       "<style scoped>\n",
       "    .dataframe tbody tr th:only-of-type {\n",
       "        vertical-align: middle;\n",
       "    }\n",
       "\n",
       "    .dataframe tbody tr th {\n",
       "        vertical-align: top;\n",
       "    }\n",
       "\n",
       "    .dataframe thead th {\n",
       "        text-align: right;\n",
       "    }\n",
       "</style>\n",
       "<table border=\"1\" class=\"dataframe\">\n",
       "  <thead>\n",
       "    <tr style=\"text-align: right;\">\n",
       "      <th></th>\n",
       "      <th>key</th>\n",
       "      <th>fare_amount</th>\n",
       "      <th>pickup_datetime</th>\n",
       "      <th>pickup_longitude</th>\n",
       "      <th>pickup_latitude</th>\n",
       "      <th>dropoff_longitude</th>\n",
       "      <th>dropoff_latitude</th>\n",
       "      <th>passenger_count</th>\n",
       "      <th>year</th>\n",
       "      <th>month</th>\n",
       "      <th>...</th>\n",
       "      <th>day</th>\n",
       "      <th>hour</th>\n",
       "      <th>trip_distance_km</th>\n",
       "      <th>log_trip_ditance</th>\n",
       "      <th>pick_up_JFK</th>\n",
       "      <th>dropoff_JFK</th>\n",
       "      <th>pickup_EWR</th>\n",
       "      <th>dropoff_EWR</th>\n",
       "      <th>pickup_la_guardia</th>\n",
       "      <th>dropoff_la_guardia</th>\n",
       "    </tr>\n",
       "  </thead>\n",
       "  <tbody>\n",
       "    <tr>\n",
       "      <th>286276</th>\n",
       "      <td>2015-06-30 23:38:21.0000003</td>\n",
       "      <td>26.5</td>\n",
       "      <td>2015-06-30 23:38:21</td>\n",
       "      <td>-74.008385</td>\n",
       "      <td>40.711571</td>\n",
       "      <td>-73.884071</td>\n",
       "      <td>40.737385</td>\n",
       "      <td>5</td>\n",
       "      <td>2015</td>\n",
       "      <td>6</td>\n",
       "      <td>...</td>\n",
       "      <td>30</td>\n",
       "      <td>23</td>\n",
       "      <td>10.865387</td>\n",
       "      <td>2.385582</td>\n",
       "      <td>0</td>\n",
       "      <td>0</td>\n",
       "      <td>0</td>\n",
       "      <td>0</td>\n",
       "      <td>0</td>\n",
       "      <td>0</td>\n",
       "    </tr>\n",
       "    <tr>\n",
       "      <th>240182</th>\n",
       "      <td>2015-06-30 23:34:05.0000002</td>\n",
       "      <td>7.5</td>\n",
       "      <td>2015-06-30 23:34:05</td>\n",
       "      <td>-73.996719</td>\n",
       "      <td>40.742764</td>\n",
       "      <td>-73.991905</td>\n",
       "      <td>40.725853</td>\n",
       "      <td>1</td>\n",
       "      <td>2015</td>\n",
       "      <td>6</td>\n",
       "      <td>...</td>\n",
       "      <td>30</td>\n",
       "      <td>23</td>\n",
       "      <td>1.924224</td>\n",
       "      <td>0.654523</td>\n",
       "      <td>0</td>\n",
       "      <td>0</td>\n",
       "      <td>0</td>\n",
       "      <td>0</td>\n",
       "      <td>0</td>\n",
       "      <td>0</td>\n",
       "    </tr>\n",
       "    <tr>\n",
       "      <th>182743</th>\n",
       "      <td>2015-06-30 23:28:55.0000007</td>\n",
       "      <td>8.0</td>\n",
       "      <td>2015-06-30 23:28:55</td>\n",
       "      <td>-73.984734</td>\n",
       "      <td>40.748158</td>\n",
       "      <td>-73.983185</td>\n",
       "      <td>40.764431</td>\n",
       "      <td>1</td>\n",
       "      <td>2015</td>\n",
       "      <td>6</td>\n",
       "      <td>...</td>\n",
       "      <td>30</td>\n",
       "      <td>23</td>\n",
       "      <td>1.814796</td>\n",
       "      <td>0.595973</td>\n",
       "      <td>0</td>\n",
       "      <td>0</td>\n",
       "      <td>0</td>\n",
       "      <td>0</td>\n",
       "      <td>0</td>\n",
       "      <td>0</td>\n",
       "    </tr>\n",
       "    <tr>\n",
       "      <th>362807</th>\n",
       "      <td>2015-06-30 23:26:21.0000001</td>\n",
       "      <td>16.0</td>\n",
       "      <td>2015-06-30 23:26:21</td>\n",
       "      <td>-73.979385</td>\n",
       "      <td>40.682659</td>\n",
       "      <td>-73.925461</td>\n",
       "      <td>40.669498</td>\n",
       "      <td>2</td>\n",
       "      <td>2015</td>\n",
       "      <td>6</td>\n",
       "      <td>...</td>\n",
       "      <td>30</td>\n",
       "      <td>23</td>\n",
       "      <td>4.778674</td>\n",
       "      <td>1.564163</td>\n",
       "      <td>0</td>\n",
       "      <td>0</td>\n",
       "      <td>0</td>\n",
       "      <td>0</td>\n",
       "      <td>0</td>\n",
       "      <td>0</td>\n",
       "    </tr>\n",
       "    <tr>\n",
       "      <th>350061</th>\n",
       "      <td>2015-06-30 23:22:46.0000006</td>\n",
       "      <td>10.0</td>\n",
       "      <td>2015-06-30 23:22:46</td>\n",
       "      <td>-73.984718</td>\n",
       "      <td>40.754299</td>\n",
       "      <td>-73.966904</td>\n",
       "      <td>40.772480</td>\n",
       "      <td>1</td>\n",
       "      <td>2015</td>\n",
       "      <td>6</td>\n",
       "      <td>...</td>\n",
       "      <td>30</td>\n",
       "      <td>23</td>\n",
       "      <td>2.518330</td>\n",
       "      <td>0.923596</td>\n",
       "      <td>0</td>\n",
       "      <td>0</td>\n",
       "      <td>0</td>\n",
       "      <td>0</td>\n",
       "      <td>0</td>\n",
       "      <td>0</td>\n",
       "    </tr>\n",
       "  </tbody>\n",
       "</table>\n",
       "<p>5 rows × 22 columns</p>\n",
       "</div>"
      ],
      "text/plain": [
       "                                key  fare_amount     pickup_datetime  \\\n",
       "286276  2015-06-30 23:38:21.0000003         26.5 2015-06-30 23:38:21   \n",
       "240182  2015-06-30 23:34:05.0000002          7.5 2015-06-30 23:34:05   \n",
       "182743  2015-06-30 23:28:55.0000007          8.0 2015-06-30 23:28:55   \n",
       "362807  2015-06-30 23:26:21.0000001         16.0 2015-06-30 23:26:21   \n",
       "350061  2015-06-30 23:22:46.0000006         10.0 2015-06-30 23:22:46   \n",
       "\n",
       "        pickup_longitude  pickup_latitude  dropoff_longitude  \\\n",
       "286276        -74.008385        40.711571         -73.884071   \n",
       "240182        -73.996719        40.742764         -73.991905   \n",
       "182743        -73.984734        40.748158         -73.983185   \n",
       "362807        -73.979385        40.682659         -73.925461   \n",
       "350061        -73.984718        40.754299         -73.966904   \n",
       "\n",
       "        dropoff_latitude  passenger_count  year  month  ... day hour  \\\n",
       "286276         40.737385                5  2015      6  ...  30   23   \n",
       "240182         40.725853                1  2015      6  ...  30   23   \n",
       "182743         40.764431                1  2015      6  ...  30   23   \n",
       "362807         40.669498                2  2015      6  ...  30   23   \n",
       "350061         40.772480                1  2015      6  ...  30   23   \n",
       "\n",
       "        trip_distance_km  log_trip_ditance  pick_up_JFK  dropoff_JFK  \\\n",
       "286276         10.865387          2.385582            0            0   \n",
       "240182          1.924224          0.654523            0            0   \n",
       "182743          1.814796          0.595973            0            0   \n",
       "362807          4.778674          1.564163            0            0   \n",
       "350061          2.518330          0.923596            0            0   \n",
       "\n",
       "        pickup_EWR  dropoff_EWR  pickup_la_guardia  dropoff_la_guardia  \n",
       "286276           0            0                  0                   0  \n",
       "240182           0            0                  0                   0  \n",
       "182743           0            0                  0                   0  \n",
       "362807           0            0                  0                   0  \n",
       "350061           0            0                  0                   0  \n",
       "\n",
       "[5 rows x 22 columns]"
      ]
     },
     "execution_count": 25,
     "metadata": {},
     "output_type": "execute_result"
    }
   ],
   "source": [
    "nyc_data['pick_up_JFK']=nyc_data.apply(lambda row:Airport(row['pickup_latitude'],row['pickup_longitude'],'JFK'),axis=1)\n",
    "nyc_data['dropoff_JFK']=nyc_data.apply(lambda row:Airport(row['dropoff_latitude'],row['dropoff_longitude'],'JFK'),axis=1)\n",
    "nyc_data['pickup_EWR']=nyc_data.apply(lambda row:Airport(row['pickup_latitude'],row['pickup_longitude'],'EWR'),axis=1)\n",
    "nyc_data['dropoff_EWR']=nyc_data.apply(lambda row:Airport(row['dropoff_latitude'],row['dropoff_longitude'],'EWR'),axis=1)\n",
    "nyc_data['pickup_la_guardia']=nyc_data.apply(lambda row:Airport(row['pickup_latitude'],row['pickup_longitude'],'LaGuardia'),axis=1)\n",
    "nyc_data['dropoff_la_guardia']=nyc_data.apply(lambda row:Airport(row['dropoff_latitude'],row['dropoff_longitude'],'LaGuardia'),axis=1)\n",
    "nyc_data.head()"
   ]
  },
  {
   "cell_type": "code",
   "execution_count": 26,
   "id": "b4fc9491",
   "metadata": {},
   "outputs": [],
   "source": [
    "#Finding distance based on longitude and latitude\n",
    "#The Haversine formula determines the great-circle distance between two points on a sphere given their longitudes and latitudes.\n"
   ]
  },
  {
   "cell_type": "code",
   "execution_count": 27,
   "id": "0c4491f7",
   "metadata": {},
   "outputs": [],
   "source": [
    "#radius of earth in kilometers\n",
    "R = 6373.0\n",
    "\n",
    "pickup_lat  = np.radians(nyc_data[\"pickup_latitude\"])\n",
    "pickup_lon  = np.radians(nyc_data[\"pickup_longitude\"])\n",
    "dropoff_lat = np.radians(nyc_data[\"dropoff_latitude\"])\n",
    "dropoff_lon = np.radians(nyc_data[\"dropoff_longitude\"])\n",
    "\n",
    "dist_lon = dropoff_lon - pickup_lon\n",
    "dist_lat = dropoff_lat - pickup_lat"
   ]
  },
  {
   "cell_type": "code",
   "execution_count": 28,
   "id": "a4d56be2",
   "metadata": {},
   "outputs": [],
   "source": [
    "#Formula\n",
    "a = (np.sin(dist_lat/2))**2 + np.cos(pickup_lat) * np.cos(dropoff_lat) * (np.sin(dist_lon/2))**2 \n",
    "c = 2 * np.arctan2( np.sqrt(a), np.sqrt(1-a) ) \n",
    "d = R * c #(where R is the radius of the Earth)\n",
    "\n",
    "nyc_data[\"trip_distance_km\"] = d"
   ]
  },
  {
   "cell_type": "code",
   "execution_count": 29,
   "id": "7930f10e",
   "metadata": {},
   "outputs": [
    {
     "data": {
      "text/html": [
       "<div>\n",
       "<style scoped>\n",
       "    .dataframe tbody tr th:only-of-type {\n",
       "        vertical-align: middle;\n",
       "    }\n",
       "\n",
       "    .dataframe tbody tr th {\n",
       "        vertical-align: top;\n",
       "    }\n",
       "\n",
       "    .dataframe thead th {\n",
       "        text-align: right;\n",
       "    }\n",
       "</style>\n",
       "<table border=\"1\" class=\"dataframe\">\n",
       "  <thead>\n",
       "    <tr style=\"text-align: right;\">\n",
       "      <th></th>\n",
       "      <th>pickup_longitude</th>\n",
       "      <th>pickup_latitude</th>\n",
       "      <th>dropoff_longitude</th>\n",
       "      <th>dropoff_latitude</th>\n",
       "      <th>trip_distance_km</th>\n",
       "    </tr>\n",
       "  </thead>\n",
       "  <tbody>\n",
       "    <tr>\n",
       "      <th>286276</th>\n",
       "      <td>-74.008385</td>\n",
       "      <td>40.711571</td>\n",
       "      <td>-73.884071</td>\n",
       "      <td>40.737385</td>\n",
       "      <td>10.865387</td>\n",
       "    </tr>\n",
       "    <tr>\n",
       "      <th>240182</th>\n",
       "      <td>-73.996719</td>\n",
       "      <td>40.742764</td>\n",
       "      <td>-73.991905</td>\n",
       "      <td>40.725853</td>\n",
       "      <td>1.924224</td>\n",
       "    </tr>\n",
       "    <tr>\n",
       "      <th>182743</th>\n",
       "      <td>-73.984734</td>\n",
       "      <td>40.748158</td>\n",
       "      <td>-73.983185</td>\n",
       "      <td>40.764431</td>\n",
       "      <td>1.814796</td>\n",
       "    </tr>\n",
       "    <tr>\n",
       "      <th>362807</th>\n",
       "      <td>-73.979385</td>\n",
       "      <td>40.682659</td>\n",
       "      <td>-73.925461</td>\n",
       "      <td>40.669498</td>\n",
       "      <td>4.778674</td>\n",
       "    </tr>\n",
       "    <tr>\n",
       "      <th>350061</th>\n",
       "      <td>-73.984718</td>\n",
       "      <td>40.754299</td>\n",
       "      <td>-73.966904</td>\n",
       "      <td>40.772480</td>\n",
       "      <td>2.518330</td>\n",
       "    </tr>\n",
       "  </tbody>\n",
       "</table>\n",
       "</div>"
      ],
      "text/plain": [
       "        pickup_longitude  pickup_latitude  dropoff_longitude  \\\n",
       "286276        -74.008385        40.711571         -73.884071   \n",
       "240182        -73.996719        40.742764         -73.991905   \n",
       "182743        -73.984734        40.748158         -73.983185   \n",
       "362807        -73.979385        40.682659         -73.925461   \n",
       "350061        -73.984718        40.754299         -73.966904   \n",
       "\n",
       "        dropoff_latitude  trip_distance_km  \n",
       "286276         40.737385         10.865387  \n",
       "240182         40.725853          1.924224  \n",
       "182743         40.764431          1.814796  \n",
       "362807         40.669498          4.778674  \n",
       "350061         40.772480          2.518330  "
      ]
     },
     "execution_count": 29,
     "metadata": {},
     "output_type": "execute_result"
    }
   ],
   "source": [
    "#create new variable log of distance\n",
    "nyc_data[\"log_trip_ditance\"] = np.log(nyc_data[\"trip_distance_km\"])\n",
    "\n",
    "nyc_data[coord + [\"trip_distance_km\"]].head()\n"
   ]
  },
  {
   "cell_type": "code",
   "execution_count": 30,
   "id": "74a45975",
   "metadata": {},
   "outputs": [],
   "source": [
    "#● Data Transformation\n",
    "#Normalization\n",
    "#We are trying to reduce the size of our data so our model train faster"
   ]
  },
  {
   "cell_type": "code",
   "execution_count": 31,
   "id": "f2b0ed80",
   "metadata": {},
   "outputs": [],
   "source": [
    "nyc_data.year = (nyc_data.year - 2009)\n",
    "max_year = nyc_data.year.max()\n",
    "nyc_data.month = nyc_data.month + nyc_data.year*12\n",
    "nyc_data.year = nyc_data.year/max_year\n",
    "max_month = nyc_data.month.max()\n",
    "nyc_data.month = nyc_data.month/max_month\n",
    "max_day = nyc_data.day.max()\n",
    "nyc_data.day = nyc_data.day/max_day\n",
    "max_hour = nyc_data.hour.max()\n",
    "nyc_data.hour = nyc_data.hour / max_hour\n",
    "nyc_data.pickup_latitude = coordinates['max_lat'] - nyc_data.pickup_latitude\n",
    "nyc_data.dropoff_latitude = coordinates['max_lat'] - nyc_data.dropoff_latitude\n",
    "nyc_data.pickup_longitude = coordinates['max_long'] - nyc_data.pickup_longitude\n",
    "nyc_data.dropoff_longitude = coordinates['max_long'] - nyc_data.dropoff_longitude"
   ]
  },
  {
   "cell_type": "code",
   "execution_count": 32,
   "id": "cb74ab13",
   "metadata": {},
   "outputs": [
    {
     "data": {
      "text/html": [
       "<div>\n",
       "<style scoped>\n",
       "    .dataframe tbody tr th:only-of-type {\n",
       "        vertical-align: middle;\n",
       "    }\n",
       "\n",
       "    .dataframe tbody tr th {\n",
       "        vertical-align: top;\n",
       "    }\n",
       "\n",
       "    .dataframe thead th {\n",
       "        text-align: right;\n",
       "    }\n",
       "</style>\n",
       "<table border=\"1\" class=\"dataframe\">\n",
       "  <thead>\n",
       "    <tr style=\"text-align: right;\">\n",
       "      <th></th>\n",
       "      <th>key</th>\n",
       "      <th>fare_amount</th>\n",
       "      <th>pickup_datetime</th>\n",
       "      <th>pickup_longitude</th>\n",
       "      <th>pickup_latitude</th>\n",
       "      <th>dropoff_longitude</th>\n",
       "      <th>dropoff_latitude</th>\n",
       "      <th>passenger_count</th>\n",
       "      <th>year</th>\n",
       "      <th>month</th>\n",
       "      <th>...</th>\n",
       "      <th>day</th>\n",
       "      <th>hour</th>\n",
       "      <th>trip_distance_km</th>\n",
       "      <th>log_trip_ditance</th>\n",
       "      <th>pick_up_JFK</th>\n",
       "      <th>dropoff_JFK</th>\n",
       "      <th>pickup_EWR</th>\n",
       "      <th>dropoff_EWR</th>\n",
       "      <th>pickup_la_guardia</th>\n",
       "      <th>dropoff_la_guardia</th>\n",
       "    </tr>\n",
       "  </thead>\n",
       "  <tbody>\n",
       "    <tr>\n",
       "      <th>286276</th>\n",
       "      <td>2015-06-30 23:38:21.0000003</td>\n",
       "      <td>26.5</td>\n",
       "      <td>2015-06-30 23:38:21</td>\n",
       "      <td>0.585693</td>\n",
       "      <td>0.131414</td>\n",
       "      <td>0.461379</td>\n",
       "      <td>0.105600</td>\n",
       "      <td>5</td>\n",
       "      <td>1.0</td>\n",
       "      <td>1.000000</td>\n",
       "      <td>...</td>\n",
       "      <td>0.967742</td>\n",
       "      <td>1.000000</td>\n",
       "      <td>10.865387</td>\n",
       "      <td>2.385582</td>\n",
       "      <td>0</td>\n",
       "      <td>0</td>\n",
       "      <td>0</td>\n",
       "      <td>0</td>\n",
       "      <td>0</td>\n",
       "      <td>0</td>\n",
       "    </tr>\n",
       "    <tr>\n",
       "      <th>240182</th>\n",
       "      <td>2015-06-30 23:34:05.0000002</td>\n",
       "      <td>7.5</td>\n",
       "      <td>2015-06-30 23:34:05</td>\n",
       "      <td>0.574027</td>\n",
       "      <td>0.100221</td>\n",
       "      <td>0.569213</td>\n",
       "      <td>0.117132</td>\n",
       "      <td>1</td>\n",
       "      <td>1.0</td>\n",
       "      <td>1.000000</td>\n",
       "      <td>...</td>\n",
       "      <td>0.967742</td>\n",
       "      <td>1.000000</td>\n",
       "      <td>1.924224</td>\n",
       "      <td>0.654523</td>\n",
       "      <td>0</td>\n",
       "      <td>0</td>\n",
       "      <td>0</td>\n",
       "      <td>0</td>\n",
       "      <td>0</td>\n",
       "      <td>0</td>\n",
       "    </tr>\n",
       "    <tr>\n",
       "      <th>182743</th>\n",
       "      <td>2015-06-30 23:28:55.0000007</td>\n",
       "      <td>8.0</td>\n",
       "      <td>2015-06-30 23:28:55</td>\n",
       "      <td>0.562042</td>\n",
       "      <td>0.094827</td>\n",
       "      <td>0.560493</td>\n",
       "      <td>0.078554</td>\n",
       "      <td>1</td>\n",
       "      <td>1.0</td>\n",
       "      <td>1.000000</td>\n",
       "      <td>...</td>\n",
       "      <td>0.967742</td>\n",
       "      <td>1.000000</td>\n",
       "      <td>1.814796</td>\n",
       "      <td>0.595973</td>\n",
       "      <td>0</td>\n",
       "      <td>0</td>\n",
       "      <td>0</td>\n",
       "      <td>0</td>\n",
       "      <td>0</td>\n",
       "      <td>0</td>\n",
       "    </tr>\n",
       "    <tr>\n",
       "      <th>362807</th>\n",
       "      <td>2015-06-30 23:26:21.0000001</td>\n",
       "      <td>16.0</td>\n",
       "      <td>2015-06-30 23:26:21</td>\n",
       "      <td>0.556693</td>\n",
       "      <td>0.160326</td>\n",
       "      <td>0.502769</td>\n",
       "      <td>0.173487</td>\n",
       "      <td>2</td>\n",
       "      <td>1.0</td>\n",
       "      <td>1.000000</td>\n",
       "      <td>...</td>\n",
       "      <td>0.967742</td>\n",
       "      <td>1.000000</td>\n",
       "      <td>4.778674</td>\n",
       "      <td>1.564163</td>\n",
       "      <td>0</td>\n",
       "      <td>0</td>\n",
       "      <td>0</td>\n",
       "      <td>0</td>\n",
       "      <td>0</td>\n",
       "      <td>0</td>\n",
       "    </tr>\n",
       "    <tr>\n",
       "      <th>350061</th>\n",
       "      <td>2015-06-30 23:22:46.0000006</td>\n",
       "      <td>10.0</td>\n",
       "      <td>2015-06-30 23:22:46</td>\n",
       "      <td>0.562026</td>\n",
       "      <td>0.088686</td>\n",
       "      <td>0.544212</td>\n",
       "      <td>0.070505</td>\n",
       "      <td>1</td>\n",
       "      <td>1.0</td>\n",
       "      <td>1.000000</td>\n",
       "      <td>...</td>\n",
       "      <td>0.967742</td>\n",
       "      <td>1.000000</td>\n",
       "      <td>2.518330</td>\n",
       "      <td>0.923596</td>\n",
       "      <td>0</td>\n",
       "      <td>0</td>\n",
       "      <td>0</td>\n",
       "      <td>0</td>\n",
       "      <td>0</td>\n",
       "      <td>0</td>\n",
       "    </tr>\n",
       "    <tr>\n",
       "      <th>...</th>\n",
       "      <td>...</td>\n",
       "      <td>...</td>\n",
       "      <td>...</td>\n",
       "      <td>...</td>\n",
       "      <td>...</td>\n",
       "      <td>...</td>\n",
       "      <td>...</td>\n",
       "      <td>...</td>\n",
       "      <td>...</td>\n",
       "      <td>...</td>\n",
       "      <td>...</td>\n",
       "      <td>...</td>\n",
       "      <td>...</td>\n",
       "      <td>...</td>\n",
       "      <td>...</td>\n",
       "      <td>...</td>\n",
       "      <td>...</td>\n",
       "      <td>...</td>\n",
       "      <td>...</td>\n",
       "      <td>...</td>\n",
       "      <td>...</td>\n",
       "    </tr>\n",
       "    <tr>\n",
       "      <th>76195</th>\n",
       "      <td>2009-01-01 01:21:54.0000002</td>\n",
       "      <td>4.9</td>\n",
       "      <td>2009-01-01 01:21:54</td>\n",
       "      <td>0.529118</td>\n",
       "      <td>0.128088</td>\n",
       "      <td>0.539470</td>\n",
       "      <td>0.133631</td>\n",
       "      <td>4</td>\n",
       "      <td>0.0</td>\n",
       "      <td>0.012821</td>\n",
       "      <td>...</td>\n",
       "      <td>0.032258</td>\n",
       "      <td>0.043478</td>\n",
       "      <td>1.068598</td>\n",
       "      <td>0.066348</td>\n",
       "      <td>0</td>\n",
       "      <td>0</td>\n",
       "      <td>0</td>\n",
       "      <td>0</td>\n",
       "      <td>0</td>\n",
       "      <td>0</td>\n",
       "    </tr>\n",
       "    <tr>\n",
       "      <th>124445</th>\n",
       "      <td>2009-01-01 00:47:26.0000007</td>\n",
       "      <td>5.4</td>\n",
       "      <td>2009-01-01 00:47:26</td>\n",
       "      <td>0.564632</td>\n",
       "      <td>0.093414</td>\n",
       "      <td>0.553342</td>\n",
       "      <td>0.101034</td>\n",
       "      <td>1</td>\n",
       "      <td>0.0</td>\n",
       "      <td>0.012821</td>\n",
       "      <td>...</td>\n",
       "      <td>0.032258</td>\n",
       "      <td>0.000000</td>\n",
       "      <td>1.274181</td>\n",
       "      <td>0.242304</td>\n",
       "      <td>0</td>\n",
       "      <td>0</td>\n",
       "      <td>0</td>\n",
       "      <td>0</td>\n",
       "      <td>0</td>\n",
       "      <td>0</td>\n",
       "    </tr>\n",
       "    <tr>\n",
       "      <th>82469</th>\n",
       "      <td>2009-01-01 00:41:00.0000003</td>\n",
       "      <td>6.2</td>\n",
       "      <td>2009-01-01 00:41:00</td>\n",
       "      <td>0.571510</td>\n",
       "      <td>0.091977</td>\n",
       "      <td>0.563125</td>\n",
       "      <td>0.092408</td>\n",
       "      <td>2</td>\n",
       "      <td>0.0</td>\n",
       "      <td>0.012821</td>\n",
       "      <td>...</td>\n",
       "      <td>0.032258</td>\n",
       "      <td>0.000000</td>\n",
       "      <td>0.708168</td>\n",
       "      <td>-0.345073</td>\n",
       "      <td>0</td>\n",
       "      <td>0</td>\n",
       "      <td>0</td>\n",
       "      <td>0</td>\n",
       "      <td>0</td>\n",
       "      <td>0</td>\n",
       "    </tr>\n",
       "    <tr>\n",
       "      <th>124750</th>\n",
       "      <td>2009-01-01 00:35:03.0000001</td>\n",
       "      <td>16.5</td>\n",
       "      <td>2009-01-01 00:35:03</td>\n",
       "      <td>0.569246</td>\n",
       "      <td>0.104571</td>\n",
       "      <td>0.580807</td>\n",
       "      <td>0.159659</td>\n",
       "      <td>1</td>\n",
       "      <td>0.0</td>\n",
       "      <td>0.012821</td>\n",
       "      <td>...</td>\n",
       "      <td>0.032258</td>\n",
       "      <td>0.000000</td>\n",
       "      <td>6.204476</td>\n",
       "      <td>1.825271</td>\n",
       "      <td>0</td>\n",
       "      <td>0</td>\n",
       "      <td>0</td>\n",
       "      <td>0</td>\n",
       "      <td>0</td>\n",
       "      <td>0</td>\n",
       "    </tr>\n",
       "    <tr>\n",
       "      <th>297860</th>\n",
       "      <td>2009-01-01 00:31:32.0000001</td>\n",
       "      <td>11.8</td>\n",
       "      <td>2009-01-01 00:31:32</td>\n",
       "      <td>0.532383</td>\n",
       "      <td>0.073994</td>\n",
       "      <td>0.550538</td>\n",
       "      <td>0.095006</td>\n",
       "      <td>1</td>\n",
       "      <td>0.0</td>\n",
       "      <td>0.012821</td>\n",
       "      <td>...</td>\n",
       "      <td>0.032258</td>\n",
       "      <td>0.000000</td>\n",
       "      <td>2.793214</td>\n",
       "      <td>1.027193</td>\n",
       "      <td>0</td>\n",
       "      <td>0</td>\n",
       "      <td>0</td>\n",
       "      <td>0</td>\n",
       "      <td>0</td>\n",
       "      <td>0</td>\n",
       "    </tr>\n",
       "  </tbody>\n",
       "</table>\n",
       "<p>480422 rows × 22 columns</p>\n",
       "</div>"
      ],
      "text/plain": [
       "                                key  fare_amount     pickup_datetime  \\\n",
       "286276  2015-06-30 23:38:21.0000003         26.5 2015-06-30 23:38:21   \n",
       "240182  2015-06-30 23:34:05.0000002          7.5 2015-06-30 23:34:05   \n",
       "182743  2015-06-30 23:28:55.0000007          8.0 2015-06-30 23:28:55   \n",
       "362807  2015-06-30 23:26:21.0000001         16.0 2015-06-30 23:26:21   \n",
       "350061  2015-06-30 23:22:46.0000006         10.0 2015-06-30 23:22:46   \n",
       "...                             ...          ...                 ...   \n",
       "76195   2009-01-01 01:21:54.0000002          4.9 2009-01-01 01:21:54   \n",
       "124445  2009-01-01 00:47:26.0000007          5.4 2009-01-01 00:47:26   \n",
       "82469   2009-01-01 00:41:00.0000003          6.2 2009-01-01 00:41:00   \n",
       "124750  2009-01-01 00:35:03.0000001         16.5 2009-01-01 00:35:03   \n",
       "297860  2009-01-01 00:31:32.0000001         11.8 2009-01-01 00:31:32   \n",
       "\n",
       "        pickup_longitude  pickup_latitude  dropoff_longitude  \\\n",
       "286276          0.585693         0.131414           0.461379   \n",
       "240182          0.574027         0.100221           0.569213   \n",
       "182743          0.562042         0.094827           0.560493   \n",
       "362807          0.556693         0.160326           0.502769   \n",
       "350061          0.562026         0.088686           0.544212   \n",
       "...                  ...              ...                ...   \n",
       "76195           0.529118         0.128088           0.539470   \n",
       "124445          0.564632         0.093414           0.553342   \n",
       "82469           0.571510         0.091977           0.563125   \n",
       "124750          0.569246         0.104571           0.580807   \n",
       "297860          0.532383         0.073994           0.550538   \n",
       "\n",
       "        dropoff_latitude  passenger_count  year     month  ...       day  \\\n",
       "286276          0.105600                5   1.0  1.000000  ...  0.967742   \n",
       "240182          0.117132                1   1.0  1.000000  ...  0.967742   \n",
       "182743          0.078554                1   1.0  1.000000  ...  0.967742   \n",
       "362807          0.173487                2   1.0  1.000000  ...  0.967742   \n",
       "350061          0.070505                1   1.0  1.000000  ...  0.967742   \n",
       "...                  ...              ...   ...       ...  ...       ...   \n",
       "76195           0.133631                4   0.0  0.012821  ...  0.032258   \n",
       "124445          0.101034                1   0.0  0.012821  ...  0.032258   \n",
       "82469           0.092408                2   0.0  0.012821  ...  0.032258   \n",
       "124750          0.159659                1   0.0  0.012821  ...  0.032258   \n",
       "297860          0.095006                1   0.0  0.012821  ...  0.032258   \n",
       "\n",
       "            hour  trip_distance_km  log_trip_ditance  pick_up_JFK  \\\n",
       "286276  1.000000         10.865387          2.385582            0   \n",
       "240182  1.000000          1.924224          0.654523            0   \n",
       "182743  1.000000          1.814796          0.595973            0   \n",
       "362807  1.000000          4.778674          1.564163            0   \n",
       "350061  1.000000          2.518330          0.923596            0   \n",
       "...          ...               ...               ...          ...   \n",
       "76195   0.043478          1.068598          0.066348            0   \n",
       "124445  0.000000          1.274181          0.242304            0   \n",
       "82469   0.000000          0.708168         -0.345073            0   \n",
       "124750  0.000000          6.204476          1.825271            0   \n",
       "297860  0.000000          2.793214          1.027193            0   \n",
       "\n",
       "        dropoff_JFK  pickup_EWR  dropoff_EWR  pickup_la_guardia  \\\n",
       "286276            0           0            0                  0   \n",
       "240182            0           0            0                  0   \n",
       "182743            0           0            0                  0   \n",
       "362807            0           0            0                  0   \n",
       "350061            0           0            0                  0   \n",
       "...             ...         ...          ...                ...   \n",
       "76195             0           0            0                  0   \n",
       "124445            0           0            0                  0   \n",
       "82469             0           0            0                  0   \n",
       "124750            0           0            0                  0   \n",
       "297860            0           0            0                  0   \n",
       "\n",
       "        dropoff_la_guardia  \n",
       "286276                   0  \n",
       "240182                   0  \n",
       "182743                   0  \n",
       "362807                   0  \n",
       "350061                   0  \n",
       "...                    ...  \n",
       "76195                    0  \n",
       "124445                   0  \n",
       "82469                    0  \n",
       "124750                   0  \n",
       "297860                   0  \n",
       "\n",
       "[480422 rows x 22 columns]"
      ]
     },
     "metadata": {},
     "output_type": "display_data"
    }
   ],
   "source": [
    "display(nyc_data)"
   ]
  },
  {
   "cell_type": "code",
   "execution_count": 33,
   "id": "dcb5d8c4",
   "metadata": {},
   "outputs": [],
   "source": [
    "#Discretization\n",
    "#We are going to devide fare_amount to five levels\n",
    "\n",
    "#max_fare = nyc_data.fare_amount.max()\n",
    "#min_fare = nyc_data.fare_amount.min()\n",
    "#W=(max_fare-min_fare)/5\n",
    "\n",
    "#for i in nyc_data.fare_amount:\n",
    "   # if(i<W):\n",
    "      #  nyc_data.fare_amount[i]= 0\n",
    "   # if(i>=W and i<2*W):\n",
    "     #   nyc_data.fare_amount[i]= 1\n",
    "  #  if(i>=2*W and i<3*W):\n",
    "      #  nyc_data.fare_amount[i]= 2\n",
    "   # if(i>=3*W and i<4*W):\n",
    "     #   nyc_data.fare_amount[i]= 3\n",
    "   # if(i>=4*W and i <5*W):\n",
    "      #  nyc_data.fare_amount[i]= 4\n",
    "   # else:\n",
    "     #   nyc_data.fare_amount[i]= 5\n"
   ]
  },
  {
   "cell_type": "code",
   "execution_count": 34,
   "id": "23869fb8",
   "metadata": {},
   "outputs": [],
   "source": [
    "#● Feature Analysis:\n",
    "# Feature importance"
   ]
  },
  {
   "cell_type": "code",
   "execution_count": 35,
   "id": "f7f0e9ea",
   "metadata": {},
   "outputs": [],
   "source": [
    "# We are going to caculate the covariance between fare_amount and trip_distance_km\n",
    "result= np.cov(nyc_data.fare_amount,nyc_data.trip_distance_km)"
   ]
  },
  {
   "cell_type": "code",
   "execution_count": 36,
   "id": "7c296c7a",
   "metadata": {},
   "outputs": [
    {
     "name": "stdout",
     "output_type": "stream",
     "text": [
      "[[73.81463067 25.04145223]\n",
      " [25.04145223 10.92728395]]\n"
     ]
    }
   ],
   "source": [
    "print(result)"
   ]
  },
  {
   "cell_type": "code",
   "execution_count": 37,
   "id": "4cae4aa4",
   "metadata": {},
   "outputs": [
    {
     "data": {
      "image/png": "[encoded data removed]",
      "text/plain": [
       "<Figure size 864x504 with 1 Axes>"
      ]
     },
     "metadata": {
      "needs_background": "light"
     },
     "output_type": "display_data"
    }
   ],
   "source": [
    "#● Skewed Data:\n",
    "#Showing Distribution of Haversine Distance in Kilometers\n",
    "plt.figure(figsize = (12,7))\n",
    "sns.distplot(nyc_data[\"trip_distance_km\"],color = \"r\")\n",
    "plt.axvline(nyc_data[\"trip_distance_km\"].mean(),color = \"k\",\n",
    "            linestyle = \"dashed\",label = \"Avg Trip Distance (km)\")\n",
    "plt.title(\"Distribution in Trip Distance in Kilometers\")\n",
    "plt.legend(loc = \"best\",prop = {\"size\" : 12})\n",
    "plt.show()"
   ]
  },
  {
   "cell_type": "code",
   "execution_count": 38,
   "id": "761e9734",
   "metadata": {},
   "outputs": [],
   "source": [
    "#Data Reduction"
   ]
  },
  {
   "cell_type": "code",
   "execution_count": 39,
   "id": "94331e62",
   "metadata": {},
   "outputs": [],
   "source": [
    "# We have cacualted new avaible attibute with orginal attibutes, therefore, the old one is no more useful, we dicided to reduc them\n",
    "#by  Dimensionality reduction,"
   ]
  },
  {
   "cell_type": "code",
   "execution_count": 40,
   "id": "16e383fe",
   "metadata": {},
   "outputs": [
    {
     "data": {
      "image/png": "[encoded data removed]",
      "text/plain": [
       "<Figure size 1440x1440 with 2 Axes>"
      ]
     },
     "metadata": {
      "needs_background": "light"
     },
     "output_type": "display_data"
    }
   ],
   "source": [
    "import seaborn as sns\n",
    "from matplotlib import pyplot as plt\n",
    "#get correlations of each features in dataset\n",
    "corrmat = nyc_data.corr()\n",
    "top_corr_features = corrmat.index\n",
    "plt.figure(figsize=(20,20))\n",
    "#plot heat map\n",
    "g=sns.heatmap(nyc_data[top_corr_features].corr(),annot=True,cmap=\"RdYlGn\")"
   ]
  },
  {
   "cell_type": "code",
   "execution_count": 41,
   "id": "71aedca1",
   "metadata": {},
   "outputs": [],
   "source": [
    "# From Correlation Matrix with Heatmap, we can find the pickup_Longtitude and Dropoff_Longtitude have more deep red cololer whoitch means less relationship\n",
    "# We deveide to reduce them\n"
   ]
  },
  {
   "cell_type": "code",
   "execution_count": 42,
   "id": "75e5fdd6",
   "metadata": {
    "scrolled": false
   },
   "outputs": [
    {
     "data": {
      "text/html": [
       "<div>\n",
       "<style scoped>\n",
       "    .dataframe tbody tr th:only-of-type {\n",
       "        vertical-align: middle;\n",
       "    }\n",
       "\n",
       "    .dataframe tbody tr th {\n",
       "        vertical-align: top;\n",
       "    }\n",
       "\n",
       "    .dataframe thead th {\n",
       "        text-align: right;\n",
       "    }\n",
       "</style>\n",
       "<table border=\"1\" class=\"dataframe\">\n",
       "  <thead>\n",
       "    <tr style=\"text-align: right;\">\n",
       "      <th></th>\n",
       "      <th>trip_distance_km</th>\n",
       "    </tr>\n",
       "  </thead>\n",
       "  <tbody>\n",
       "    <tr>\n",
       "      <th>21738</th>\n",
       "      <td>6.563800</td>\n",
       "    </tr>\n",
       "    <tr>\n",
       "      <th>133110</th>\n",
       "      <td>3.287741</td>\n",
       "    </tr>\n",
       "    <tr>\n",
       "      <th>460178</th>\n",
       "      <td>4.140569</td>\n",
       "    </tr>\n",
       "    <tr>\n",
       "      <th>486675</th>\n",
       "      <td>0.206111</td>\n",
       "    </tr>\n",
       "    <tr>\n",
       "      <th>15898</th>\n",
       "      <td>1.082777</td>\n",
       "    </tr>\n",
       "    <tr>\n",
       "      <th>...</th>\n",
       "      <td>...</td>\n",
       "    </tr>\n",
       "    <tr>\n",
       "      <th>89182</th>\n",
       "      <td>1.730899</td>\n",
       "    </tr>\n",
       "    <tr>\n",
       "      <th>373834</th>\n",
       "      <td>20.952873</td>\n",
       "    </tr>\n",
       "    <tr>\n",
       "      <th>211817</th>\n",
       "      <td>3.097969</td>\n",
       "    </tr>\n",
       "    <tr>\n",
       "      <th>470417</th>\n",
       "      <td>1.259424</td>\n",
       "    </tr>\n",
       "    <tr>\n",
       "      <th>131760</th>\n",
       "      <td>1.155361</td>\n",
       "    </tr>\n",
       "  </tbody>\n",
       "</table>\n",
       "<p>48043 rows × 1 columns</p>\n",
       "</div>"
      ],
      "text/plain": [
       "        trip_distance_km\n",
       "21738           6.563800\n",
       "133110          3.287741\n",
       "460178          4.140569\n",
       "486675          0.206111\n",
       "15898           1.082777\n",
       "...                  ...\n",
       "89182           1.730899\n",
       "373834         20.952873\n",
       "211817          3.097969\n",
       "470417          1.259424\n",
       "131760          1.155361\n",
       "\n",
       "[48043 rows x 1 columns]"
      ]
     },
     "metadata": {},
     "output_type": "display_data"
    }
   ],
   "source": [
    "from sklearn.model_selection import train_test_split\n",
    "x = nyc_data.drop(columns = ['fare_amount'])\n",
    "y = nyc_data[['fare_amount']]\n",
    "X_train, X_test, Y_train, Y_test = train_test_split(x, y, test_size = 0.1, random_state=0)\n",
    "display(X_test[['trip_distance_km']])"
   ]
  },
  {
   "cell_type": "code",
   "execution_count": 43,
   "id": "b7ecba80",
   "metadata": {
    "scrolled": false
   },
   "outputs": [
    {
     "name": "stdout",
     "output_type": "stream",
     "text": [
      "0.7804300890194287\n"
     ]
    }
   ],
   "source": [
    "from sklearn.linear_model import LinearRegression\n",
    "LRmodel = LinearRegression(normalize = True)\n",
    "LRmodel.fit(X_train[['trip_distance_km']], Y_train[['fare_amount']])\n",
    "print(LRmodel.score(X_test[['trip_distance_km']], Y_test[['fare_amount']]))"
   ]
  },
  {
   "cell_type": "code",
   "execution_count": 44,
   "id": "00d17722",
   "metadata": {
    "scrolled": true
   },
   "outputs": [
    {
     "data": {
      "text/html": [
       "<div>\n",
       "<style scoped>\n",
       "    .dataframe tbody tr th:only-of-type {\n",
       "        vertical-align: middle;\n",
       "    }\n",
       "\n",
       "    .dataframe tbody tr th {\n",
       "        vertical-align: top;\n",
       "    }\n",
       "\n",
       "    .dataframe thead th {\n",
       "        text-align: right;\n",
       "    }\n",
       "</style>\n",
       "<table border=\"1\" class=\"dataframe\">\n",
       "  <thead>\n",
       "    <tr style=\"text-align: right;\">\n",
       "      <th></th>\n",
       "      <th>fare</th>\n",
       "    </tr>\n",
       "  </thead>\n",
       "  <tbody>\n",
       "    <tr>\n",
       "      <th>0</th>\n",
       "      <td>18.68</td>\n",
       "    </tr>\n",
       "    <tr>\n",
       "      <th>1</th>\n",
       "      <td>11.17</td>\n",
       "    </tr>\n",
       "    <tr>\n",
       "      <th>2</th>\n",
       "      <td>13.12</td>\n",
       "    </tr>\n",
       "    <tr>\n",
       "      <th>3</th>\n",
       "      <td>4.11</td>\n",
       "    </tr>\n",
       "    <tr>\n",
       "      <th>4</th>\n",
       "      <td>6.12</td>\n",
       "    </tr>\n",
       "  </tbody>\n",
       "</table>\n",
       "</div>"
      ],
      "text/plain": [
       "    fare\n",
       "0  18.68\n",
       "1  11.17\n",
       "2  13.12\n",
       "3   4.11\n",
       "4   6.12"
      ]
     },
     "execution_count": 44,
     "metadata": {},
     "output_type": "execute_result"
    }
   ],
   "source": [
    "prediction = np.round(LRmodel.predict(X_test[['trip_distance_km']]),2)\n",
    "dfp = pd.DataFrame (prediction, columns = ['fare'])\n",
    "dfp.head()"
   ]
  },
  {
   "cell_type": "code",
   "execution_count": 45,
   "id": "2fee01da",
   "metadata": {},
   "outputs": [
    {
     "data": {
      "text/plain": [
       "4.018618165918405"
      ]
     },
     "execution_count": 45,
     "metadata": {},
     "output_type": "execute_result"
    }
   ],
   "source": [
    "from sklearn.metrics import mean_squared_error\n",
    "rmse = np.sqrt(mean_squared_error(Y_test, prediction))\n",
    "rmse"
   ]
  },
  {
   "cell_type": "code",
   "execution_count": 46,
   "id": "192be069",
   "metadata": {},
   "outputs": [
    {
     "data": {
      "text/html": [
       "<div>\n",
       "<style scoped>\n",
       "    .dataframe tbody tr th:only-of-type {\n",
       "        vertical-align: middle;\n",
       "    }\n",
       "\n",
       "    .dataframe tbody tr th {\n",
       "        vertical-align: top;\n",
       "    }\n",
       "\n",
       "    .dataframe thead th {\n",
       "        text-align: right;\n",
       "    }\n",
       "</style>\n",
       "<table border=\"1\" class=\"dataframe\">\n",
       "  <thead>\n",
       "    <tr style=\"text-align: right;\">\n",
       "      <th></th>\n",
       "      <th>fare_amount</th>\n",
       "    </tr>\n",
       "    <tr>\n",
       "      <th>trip_distance_km</th>\n",
       "      <th></th>\n",
       "    </tr>\n",
       "  </thead>\n",
       "  <tbody>\n",
       "    <tr>\n",
       "      <th>1.031088</th>\n",
       "      <td>18.68</td>\n",
       "    </tr>\n",
       "    <tr>\n",
       "      <th>8.452786</th>\n",
       "      <td>11.17</td>\n",
       "    </tr>\n",
       "    <tr>\n",
       "      <th>1.389961</th>\n",
       "      <td>13.12</td>\n",
       "    </tr>\n",
       "    <tr>\n",
       "      <th>2.800149</th>\n",
       "      <td>4.11</td>\n",
       "    </tr>\n",
       "    <tr>\n",
       "      <th>1.999784</th>\n",
       "      <td>6.12</td>\n",
       "    </tr>\n",
       "    <tr>\n",
       "      <th>...</th>\n",
       "      <td>...</td>\n",
       "    </tr>\n",
       "    <tr>\n",
       "      <th>2.731259</th>\n",
       "      <td>7.60</td>\n",
       "    </tr>\n",
       "    <tr>\n",
       "      <th>1.597997</th>\n",
       "      <td>51.65</td>\n",
       "    </tr>\n",
       "    <tr>\n",
       "      <th>4.880944</th>\n",
       "      <td>10.73</td>\n",
       "    </tr>\n",
       "    <tr>\n",
       "      <th>0.644102</th>\n",
       "      <td>6.52</td>\n",
       "    </tr>\n",
       "    <tr>\n",
       "      <th>5.517877</th>\n",
       "      <td>6.28</td>\n",
       "    </tr>\n",
       "  </tbody>\n",
       "</table>\n",
       "<p>48043 rows × 1 columns</p>\n",
       "</div>"
      ],
      "text/plain": [
       "                  fare_amount\n",
       "trip_distance_km             \n",
       "1.031088                18.68\n",
       "8.452786                11.17\n",
       "1.389961                13.12\n",
       "2.800149                 4.11\n",
       "1.999784                 6.12\n",
       "...                       ...\n",
       "2.731259                 7.60\n",
       "1.597997                51.65\n",
       "4.880944                10.73\n",
       "0.644102                 6.52\n",
       "5.517877                 6.28\n",
       "\n",
       "[48043 rows x 1 columns]"
      ]
     },
     "metadata": {},
     "output_type": "display_data"
    }
   ],
   "source": [
    "Submission = pd.DataFrame(data = prediction, columns = ['fare_amount'])\n",
    "Submission['trip_distance_km'] = nyc_data['trip_distance_km']\n",
    "Submission = Submission[['trip_distance_km','fare_amount']]\n",
    "Submission.set_index('trip_distance_km', inplace = True)\n",
    "display(Submission)"
   ]
  },
  {
   "cell_type": "code",
   "execution_count": 47,
   "id": "48bce688",
   "metadata": {},
   "outputs": [],
   "source": [
    "Submission.to_csv('Submission.csv')"
   ]
  },
  {
   "cell_type": "code",
   "execution_count": 48,
   "id": "989bff1f",
   "metadata": {},
   "outputs": [],
   "source": [
    "from sklearn.neighbors import KNeighborsRegressor"
   ]
  },
  {
   "cell_type": "code",
   "execution_count": 49,
   "id": "5fb907ba",
   "metadata": {},
   "outputs": [],
   "source": [
    "KNN = KNeighborsRegressor(n_neighbors = 100)"
   ]
  },
  {
   "cell_type": "code",
   "execution_count": 50,
   "id": "49494bd2",
   "metadata": {
    "scrolled": false
   },
   "outputs": [
    {
     "data": {
      "text/plain": [
       "KNeighborsRegressor(n_neighbors=100)"
      ]
     },
     "execution_count": 50,
     "metadata": {},
     "output_type": "execute_result"
    }
   ],
   "source": [
    "KNN.fit(X_train[['trip_distance_km']], Y_train[['fare_amount']])"
   ]
  },
  {
   "cell_type": "code",
   "execution_count": 51,
   "id": "983089da",
   "metadata": {},
   "outputs": [
    {
     "data": {
      "text/plain": [
       "0.7953896071111363"
      ]
     },
     "execution_count": 51,
     "metadata": {},
     "output_type": "execute_result"
    }
   ],
   "source": [
    "KNN.score(X_test[['trip_distance_km']], Y_test[['fare_amount']])"
   ]
  },
  {
   "cell_type": "code",
   "execution_count": 52,
   "id": "bb983d10",
   "metadata": {
    "scrolled": false
   },
   "outputs": [
    {
     "data": {
      "text/plain": [
       "array([[18.6963],\n",
       "       [10.9905],\n",
       "       [13.2854],\n",
       "       ...,\n",
       "       [10.992 ],\n",
       "       [ 6.486 ],\n",
       "       [ 5.923 ]])"
      ]
     },
     "execution_count": 52,
     "metadata": {},
     "output_type": "execute_result"
    }
   ],
   "source": [
    "prediction2 = KNN.predict(X_test[['trip_distance_km']])\n",
    "prediction2"
   ]
  },
  {
   "cell_type": "code",
   "execution_count": 53,
   "id": "c4ec0f0f",
   "metadata": {
    "scrolled": false
   },
   "outputs": [
    {
     "data": {
      "text/plain": [
       "3.8794007296150395"
      ]
     },
     "execution_count": 53,
     "metadata": {},
     "output_type": "execute_result"
    }
   ],
   "source": [
    "rmse2 = np.sqrt(mean_squared_error(Y_test, prediction2))\n",
    "rmse2"
   ]
  },
  {
   "cell_type": "code",
   "execution_count": 54,
   "id": "2cdc89b6",
   "metadata": {},
   "outputs": [
    {
     "data": {
      "text/html": [
       "<div>\n",
       "<style scoped>\n",
       "    .dataframe tbody tr th:only-of-type {\n",
       "        vertical-align: middle;\n",
       "    }\n",
       "\n",
       "    .dataframe tbody tr th {\n",
       "        vertical-align: top;\n",
       "    }\n",
       "\n",
       "    .dataframe thead th {\n",
       "        text-align: right;\n",
       "    }\n",
       "</style>\n",
       "<table border=\"1\" class=\"dataframe\">\n",
       "  <thead>\n",
       "    <tr style=\"text-align: right;\">\n",
       "      <th></th>\n",
       "      <th>fare_amount</th>\n",
       "    </tr>\n",
       "    <tr>\n",
       "      <th>trip_distance_km</th>\n",
       "      <th></th>\n",
       "    </tr>\n",
       "  </thead>\n",
       "  <tbody>\n",
       "    <tr>\n",
       "      <th>1.031088</th>\n",
       "      <td>18.6963</td>\n",
       "    </tr>\n",
       "    <tr>\n",
       "      <th>8.452786</th>\n",
       "      <td>10.9905</td>\n",
       "    </tr>\n",
       "    <tr>\n",
       "      <th>1.389961</th>\n",
       "      <td>13.2854</td>\n",
       "    </tr>\n",
       "    <tr>\n",
       "      <th>2.800149</th>\n",
       "      <td>5.9330</td>\n",
       "    </tr>\n",
       "    <tr>\n",
       "      <th>1.999784</th>\n",
       "      <td>5.9930</td>\n",
       "    </tr>\n",
       "    <tr>\n",
       "      <th>...</th>\n",
       "      <td>...</td>\n",
       "    </tr>\n",
       "    <tr>\n",
       "      <th>2.731259</th>\n",
       "      <td>7.9680</td>\n",
       "    </tr>\n",
       "    <tr>\n",
       "      <th>1.597997</th>\n",
       "      <td>52.4416</td>\n",
       "    </tr>\n",
       "    <tr>\n",
       "      <th>4.880944</th>\n",
       "      <td>10.9920</td>\n",
       "    </tr>\n",
       "    <tr>\n",
       "      <th>0.644102</th>\n",
       "      <td>6.4860</td>\n",
       "    </tr>\n",
       "    <tr>\n",
       "      <th>5.517877</th>\n",
       "      <td>5.9230</td>\n",
       "    </tr>\n",
       "  </tbody>\n",
       "</table>\n",
       "<p>48043 rows × 1 columns</p>\n",
       "</div>"
      ],
      "text/plain": [
       "                  fare_amount\n",
       "trip_distance_km             \n",
       "1.031088              18.6963\n",
       "8.452786              10.9905\n",
       "1.389961              13.2854\n",
       "2.800149               5.9330\n",
       "1.999784               5.9930\n",
       "...                       ...\n",
       "2.731259               7.9680\n",
       "1.597997              52.4416\n",
       "4.880944              10.9920\n",
       "0.644102               6.4860\n",
       "5.517877               5.9230\n",
       "\n",
       "[48043 rows x 1 columns]"
      ]
     },
     "metadata": {},
     "output_type": "display_data"
    }
   ],
   "source": [
    "Submission2 = pd.DataFrame(data = prediction2, columns = ['fare_amount'])\n",
    "Submission2['trip_distance_km'] = nyc_data['trip_distance_km']\n",
    "Submission2 = Submission2[['trip_distance_km','fare_amount']]\n",
    "Submission2.set_index('trip_distance_km', inplace = True)\n",
    "display(Submission2)"
   ]
  },
  {
   "cell_type": "code",
   "execution_count": 55,
   "id": "3bf66d79",
   "metadata": {},
   "outputs": [],
   "source": [
    "from sklearn.ensemble import BaggingRegressor"
   ]
  },
  {
   "cell_type": "code",
   "execution_count": 56,
   "id": "ddc5e6f2",
   "metadata": {},
   "outputs": [
    {
     "data": {
      "text/plain": [
       "0.7707237116252406"
      ]
     },
     "execution_count": 56,
     "metadata": {},
     "output_type": "execute_result"
    }
   ],
   "source": [
    "BM = BaggingRegressor(\n",
    "    base_estimator = LinearRegression(),\n",
    "    n_estimators = 10,\n",
    "    max_samples = 0.8,\n",
    "    oob_score = True,\n",
    "    random_state = 0\n",
    ")\n",
    "\n",
    "BM.fit(X_train[['trip_distance_km']], Y_train[['fare_amount']])\n",
    "BM.oob_score_"
   ]
  },
  {
   "cell_type": "code",
   "execution_count": 57,
   "id": "3397ba51",
   "metadata": {},
   "outputs": [
    {
     "data": {
      "text/plain": [
       "0.7804299354845365"
      ]
     },
     "execution_count": 57,
     "metadata": {},
     "output_type": "execute_result"
    }
   ],
   "source": [
    "BM.score(X_test[['trip_distance_km']], Y_test[['fare_amount']])"
   ]
  },
  {
   "cell_type": "code",
   "execution_count": null,
   "id": "b224788c",
   "metadata": {},
   "outputs": [],
   "source": []
  }
 ],
 "metadata": {
  "kernelspec": {
   "display_name": "Python 3 (ipykernel)",
   "language": "python",
   "name": "python3"
  },
  "language_info": {
   "codemirror_mode": {
    "name": "ipython",
    "version": 3
   },
   "file_extension": ".py",
   "mimetype": "text/x-python",
   "name": "python",
   "nbconvert_exporter": "python",
   "pygments_lexer": "ipython3",
   "version": "3.9.7"
  }
 },
 "nbformat": 4,
 "nbformat_minor": 5
}
